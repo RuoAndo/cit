{
 "cells": [
  {
   "cell_type": "markdown",
   "metadata": {},
   "source": [
    "# 課題9-2 マルコフ情報源の文字列の可視化\n",
    "\n",
    "<pre>\n",
    "次の文字列の可視化をしなさい。\n",
    " \"THCCHCHHTTTHHCHCHCHHTTTTCCHCHC\"\n",
    "</pre>"
   ]
  },
  {
   "cell_type": "code",
   "execution_count": 40,
   "metadata": {},
   "outputs": [
    {
     "data": {
      "text/plain": [
       "Text(2.5, 0.5, 'TV')"
      ]
     },
     "execution_count": 40,
     "metadata": {},
     "output_type": "execute_result"
    },
    {
     "data": {
      "image/png": "[encoded data removed]",
      "text/plain": [
       "<Figure size 360x360 with 1 Axes>"
      ]
     },
     "metadata": {
      "needs_background": "light"
     },
     "output_type": "display_data"
    }
   ],
   "source": [
    "import numpy as np\n",
    "import matplotlib.pyplot as plt\n",
    "%matplotlib inline\n",
    "\n",
    "fig = plt.figure(figsize=(5, 5))\n",
    "ax = plt.gca()\n",
    "\n",
    "ax.set_xlim(0, 3)\n",
    "ax.set_ylim(0, 3)\n",
    "plt.tick_params(axis='both', which='both', bottom='off', top='off',\n",
    "                labelbottom='off', right='off', left='off', labelleft='off')\n",
    "\n",
    "line, = ax.plot([1.5], [2.5], marker=\"o\", color='g', markersize=60)\n",
    "\n",
    "plt.text(2.5, 2.5, 'Husuma', size=14, ha='center')\n",
    "plt.text(0.5, 1.0, 'Chabudai', size=14, ha='center')\n",
    "plt.text(2.5, 0.5, 'TV', size=14, ha='center')\n"
   ]
  },
  {
   "cell_type": "code",
   "execution_count": 41,
   "metadata": {},
   "outputs": [
    {
     "name": "stdout",
     "output_type": "stream",
     "text": [
      "['T', 'H', 'C', 'C', 'H', 'C', 'H', 'H', 'T', 'T', 'T', 'H', 'H', 'C', 'H', 'C', 'H', 'C', 'H', 'H', 'T', 'T', 'T', 'T', 'C', 'C', 'H', 'C', 'H', 'C']\n"
     ]
    }
   ],
   "source": [
    "state_string = \"THCCHCHHTTTHHCHCHCHHTTTTCCHCHC\"\n",
    "state_history = []\n",
    "\n",
    "for i in state_string:\n",
    "    state_history.append(i)\n",
    "\n",
    "print(state_history)\n",
    "    \n",
    "    "
   ]
  },
  {
   "cell_type": "code",
   "execution_count": 42,
   "metadata": {},
   "outputs": [],
   "source": [
    "from matplotlib import animation\n",
    "from IPython.display import HTML\n",
    "\n",
    "def init():\n",
    "    line.set_data([], [])\n",
    "    return (line,)\n",
    "\n",
    "def animate(i):\n",
    "    state = state_history[i]  \n",
    "    \n",
    "    #print(state)\n",
    "    \n",
    "    if state == \"H\":\n",
    "        x = 2.5\n",
    "        y = 2.5\n",
    "    elif state == \"C\":\n",
    "        x = 0.5 \n",
    "        y = 1.0\n",
    "    elif state == \"T\":\n",
    "        x = 2.5\n",
    "        y = 0.5\n",
    "           \n",
    "    line.set_data(x, y)\n",
    "    return (line,)\n"
   ]
  },
  {
   "cell_type": "code",
   "execution_count": 43,
   "metadata": {},
   "outputs": [],
   "source": [
    "anim = animation.FuncAnimation(fig, animate, init_func=init, frames=len(\n",
    "    state_history), interval=200, repeat=False)"
   ]
  },
  {
   "cell_type": "code",
   "execution_count": 44,
   "metadata": {},
   "outputs": [
    {
     "data": {
      "text/html": [
       "<video src=\"maze.mp4\" controls  >\n",
       "      Your browser does not support the <code>video</code> element.\n",
       "    </video>"
      ],
      "text/plain": [
       "<IPython.core.display.Video object>"
      ]
     },
     "execution_count": 44,
     "metadata": {},
     "output_type": "execute_result"
    }
   ],
   "source": [
    "anim.save('maze.mp4') \n",
    "from IPython.display import Video\n",
    "Video('maze.mp4')"
   ]
  },
  {
   "cell_type": "markdown",
   "metadata": {},
   "source": [
    "<img src=\"sc.png\">"
   ]
  },
  {
   "cell_type": "code",
   "execution_count": null,
   "metadata": {},
   "outputs": [],
   "source": []
  }
 ],
 "metadata": {
  "kernelspec": {
   "display_name": "Python 3",
   "language": "python",
   "name": "python3"
  },
  "language_info": {
   "codemirror_mode": {
    "name": "ipython",
    "version": 3
   },
   "file_extension": ".py",
   "mimetype": "text/x-python",
   "name": "python",
   "nbconvert_exporter": "python",
   "pygments_lexer": "ipython3",
   "version": "3.8.5"
  }
 },
 "nbformat": 4,
 "nbformat_minor": 4
}
