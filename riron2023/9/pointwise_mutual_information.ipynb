{
 "cells": [
  {
   "cell_type": "markdown",
   "metadata": {},
   "source": [
    "課題9-1\n",
    "\n",
    "<pre>\n",
    "A. 太郎は日本全国で1,741箇所ある市町村のうち、183箇所ある村のどこかにいる。\n",
    "B. 太郎は47都道府県のどこかにいる。\n",
    "</pre>\n",
    "\n",
    "自己情報量が多いのはどちらか計算しなさい。"
   ]
  },
  {
   "cell_type": "code",
   "execution_count": 2,
   "metadata": {},
   "outputs": [
    {
     "name": "stdout",
     "output_type": "stream",
     "text": [
      "0.11818274152505612\n"
     ]
    }
   ],
   "source": [
    "import numpy as np\n",
    "import matplotlib.pyplot as plt\n",
    "\n",
    "Px = 1/47\n",
    "\n",
    "# 自己情報量\n",
    "H = -Px * np.log2(Px) \n",
    "\n",
    "print(H)"
   ]
  }
 ],
 "metadata": {
  "kernelspec": {
   "display_name": "Python 3",
   "language": "python",
   "name": "python3"
  },
  "language_info": {
   "codemirror_mode": {
    "name": "ipython",
    "version": 3
   },
   "file_extension": ".py",
   "mimetype": "text/x-python",
   "name": "python",
   "nbconvert_exporter": "python",
   "pygments_lexer": "ipython3",
   "version": "3.8.5"
  }
 },
 "nbformat": 4,
 "nbformat_minor": 4
}
