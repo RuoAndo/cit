{
 "cells": [
  {
   "cell_type": "code",
   "execution_count": 1,
   "metadata": {},
   "outputs": [
    {
     "name": "stdout",
     "output_type": "stream",
     "text": [
      "OK.\n",
      "Start state: Chabudai\n",
      "CTCCCCCCTCCCTCCCCTCCTCCCCTCTTCCCCTCCTCTCCTCTCTCCCCCCCCCCCCCCTCTTTCCTCCCTTCCCCTTTCCCTCCTCCCCTCTTTTTTT\n"
     ]
    }
   ],
   "source": [
    "import numpy as np\n",
    "import random as rm\n",
    "import sys\n",
    "\n",
    "LENGTH = 100\n",
    "\n",
    "# The statespace\n",
    "states = [\"Chabudai\",\"TV\"]\n",
    "\n",
    "transitionName = [[\"CC\",\"CT\"],[\"TT\",\"TC\"]]\n",
    "transitionMatrix = [[0.9,0.1],[0.8,0.2]]\n",
    "\n",
    "if sum(transitionMatrix[0])+sum(transitionMatrix[1]) != 2:\n",
    "    print(\"Transition matrix is wrong.\")\n",
    "else: print(\"OK.\")\n",
    "\n",
    "alist = []\n",
    "\n",
    "def activity_forecast(days, cPos):\n",
    "    # Choose the starting state\n",
    "    currentPosition = cPos\n",
    "    alist.append(currentPosition)\n",
    "    print(\"Start state: \" + currentPosition)\n",
    "    # Shall store the sequence of states taken. So, this only has the starting state for now.\n",
    "    activityList = [currentPosition]\n",
    "    i = 0\n",
    "    # To calculate the probability of the activityList\n",
    "    prob = 1\n",
    "    while i != days:\n",
    "        \n",
    "        n = rm.uniform(1,100)\n",
    "        \n",
    "        if n > 33:\n",
    "            alist.append(\"Chabudai\")\n",
    "        else:\n",
    "            alist.append(\"TV\")\n",
    "                \n",
    "        i += 1  \n",
    "\n",
    "activity_forecast(LENGTH-1, 'Chabudai')        \n",
    "#print(\"TV:\" + str((alist.count('TV')/LENGTH)*100)+\"%\")\n",
    "#print(\"Chabudai:\" + str((alist.count('Chabudai')/LENGTH)*100)+\"%\")\n",
    "#print(\"Husuma:\" + str((alist.count('Husuma')/LENGTH)*100)+\"%\")\n",
    "\n",
    "rstring = '' \n",
    "        \n",
    "for i in alist:\n",
    "    rstring = rstring + i[0]\n",
    "\n",
    "print(rstring)"
   ]
  },
  {
   "cell_type": "code",
   "execution_count": 2,
   "metadata": {},
   "outputs": [
    {
     "data": {
      "text/plain": [
       "Text(2.5, 0.5, 'TV')"
      ]
     },
     "execution_count": 2,
     "metadata": {},
     "output_type": "execute_result"
    },
    {
     "data": {
      "image/png": "[encoded data removed]",
      "text/plain": [
       "<Figure size 360x360 with 1 Axes>"
      ]
     },
     "metadata": {
      "needs_background": "light"
     },
     "output_type": "display_data"
    }
   ],
   "source": [
    "import numpy as np\n",
    "import matplotlib.pyplot as plt\n",
    "%matplotlib inline\n",
    "\n",
    "fig = plt.figure(figsize=(5, 5))\n",
    "ax = plt.gca()\n",
    "\n",
    "ax.set_xlim(0, 3)\n",
    "ax.set_ylim(0, 3)\n",
    "plt.tick_params(axis='both', which='both', bottom='off', top='off',\n",
    "                labelbottom='off', right='off', left='off', labelleft='off')\n",
    "\n",
    "line, = ax.plot([0.5], [1.0], marker=\"o\", color='g', markersize=60)\n",
    "\n",
    "#plt.text(2.5, 2.5, 'Husuma', size=14, ha='center')\n",
    "plt.text(0.5, 1.0, 'Chabudai', size=14, ha='center')\n",
    "plt.text(2.5, 0.5, 'TV', size=14, ha='center')\n"
   ]
  },
  {
   "cell_type": "code",
   "execution_count": 3,
   "metadata": {},
   "outputs": [
    {
     "name": "stdout",
     "output_type": "stream",
     "text": [
      "['C', 'T', 'C', 'C', 'C', 'C', 'C', 'C', 'T', 'C', 'C', 'C', 'T', 'C', 'C', 'C', 'C', 'T', 'C', 'C', 'T', 'C', 'C', 'C', 'C', 'T', 'C', 'T', 'T', 'C', 'C', 'C', 'C', 'T', 'C', 'C', 'T', 'C', 'T', 'C', 'C', 'T', 'C', 'T', 'C', 'T', 'C', 'C', 'C', 'C', 'C', 'C', 'C', 'C', 'C', 'C', 'C', 'C', 'C', 'C', 'T', 'C', 'T', 'T', 'T', 'C', 'C', 'T', 'C', 'C', 'C', 'T', 'T', 'C', 'C', 'C', 'C', 'T', 'T', 'T', 'C', 'C', 'C', 'T', 'C', 'C', 'T', 'C', 'C', 'C', 'C', 'T', 'C', 'T', 'T', 'T', 'T', 'T', 'T', 'T']\n"
     ]
    }
   ],
   "source": [
    "state_string = rstring\n",
    "state_history = []\n",
    "\n",
    "for i in state_string:\n",
    "    state_history.append(i)\n",
    "\n",
    "print(state_history)"
   ]
  },
  {
   "cell_type": "code",
   "execution_count": 4,
   "metadata": {},
   "outputs": [],
   "source": [
    "from matplotlib import animation\n",
    "from IPython.display import HTML\n",
    "\n",
    "def init():\n",
    "    line.set_data([], [])\n",
    "    return (line,)\n",
    "\n",
    "def animate(i):\n",
    "    state = state_history[i]  \n",
    "    \n",
    "    #print(state)\n",
    "    \n",
    "    if state == \"C\":\n",
    "        x = 0.5 \n",
    "        y = 1.0\n",
    "    elif state == \"T\":\n",
    "        x = 2.5\n",
    "        y = 0.5\n",
    "           \n",
    "    line.set_data(x, y)\n",
    "    return (line,)\n"
   ]
  },
  {
   "cell_type": "code",
   "execution_count": 5,
   "metadata": {},
   "outputs": [],
   "source": [
    "anim = animation.FuncAnimation(fig, animate, init_func=init, frames=len(\n",
    "    state_history), interval=200, repeat=False)"
   ]
  },
  {
   "cell_type": "markdown",
   "metadata": {},
   "source": [
    "H(x) = - 1/3 * log2 * 1/3 - (2/3) * log2 * (2/3) = 0.918"
   ]
  },
  {
   "cell_type": "code",
   "execution_count": 6,
   "metadata": {},
   "outputs": [
    {
     "data": {
      "text/html": [
       "<video src=\"maze_ind.mp4\" controls  >\n",
       "      Your browser does not support the <code>video</code> element.\n",
       "    </video>"
      ],
      "text/plain": [
       "<IPython.core.display.Video object>"
      ]
     },
     "execution_count": 6,
     "metadata": {},
     "output_type": "execute_result"
    }
   ],
   "source": [
    "anim.save('maze_ind.mp4') \n",
    "from IPython.display import Video\n",
    "Video('maze_ind.mp4')"
   ]
  },
  {
   "cell_type": "code",
   "execution_count": null,
   "metadata": {},
   "outputs": [],
   "source": []
  }
 ],
 "metadata": {
  "kernelspec": {
   "display_name": "Python 3",
   "language": "python",
   "name": "python3"
  },
  "language_info": {
   "codemirror_mode": {
    "name": "ipython",
    "version": 3
   },
   "file_extension": ".py",
   "mimetype": "text/x-python",
   "name": "python",
   "nbconvert_exporter": "python",
   "pygments_lexer": "ipython3",
   "version": "3.8.5"
  }
 },
 "nbformat": 4,
 "nbformat_minor": 4
}
