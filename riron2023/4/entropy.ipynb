{
 "cells": [
  {
   "cell_type": "markdown",
   "metadata": {},
   "source": [
    "# ①平均情報量（エントロピー）の計算"
   ]
  },
  {
   "cell_type": "markdown",
   "metadata": {},
   "source": [
    "① ６つの目があるサイコロを振る。各目の出る確率は次の通り。\n",
    "\n",
    "1: 1/6\n",
    "2: 1/6\n",
    "3: 1/6\n",
    "4: 1/6\n",
    "5: 1/6\n",
    "6: 1/6"
   ]
  },
  {
   "cell_type": "code",
   "execution_count": 1,
   "metadata": {},
   "outputs": [
    {
     "name": "stdout",
     "output_type": "stream",
     "text": [
      "2.584962500721156\n"
     ]
    }
   ],
   "source": [
    "import numpy as np\n",
    "import matplotlib.pyplot as plt\n",
    "\n",
    "P1 = 1/6\n",
    "P2 = 1/6 \n",
    "P3 = 1/6\n",
    "P4 = 1/6 \n",
    "P5 = 1/6\n",
    "P6 = 1/6 \n",
    "\n",
    "# エントロピー\n",
    "H = -P1 * np.log2(P1) -P2 * np.log2(P2)-P3 * np.log2(P3)-P4 * np.log2(P4)-P5 * np.log2(P5)-P6 * np.log2(P6)\n",
    "\n",
    "print(H)"
   ]
  },
  {
   "cell_type": "markdown",
   "metadata": {},
   "source": [
    "② ６つの目がある(偏りのある）サイコロを振る。各目の出る確率は次の通り。\n",
    "\n",
    "1: 1/3\n",
    "2: 1/12\n",
    "3: 1/12\n",
    "4: 1/12\n",
    "5: 1/12\n",
    "6: 1/3"
   ]
  },
  {
   "cell_type": "code",
   "execution_count": 2,
   "metadata": {},
   "outputs": [
    {
     "name": "stdout",
     "output_type": "stream",
     "text": [
      "2.251629167387823\n"
     ]
    }
   ],
   "source": [
    "import numpy as np\n",
    "import matplotlib.pyplot as plt\n",
    "\n",
    "P1 = 1/3\n",
    "P2 = 1/12 \n",
    "P3 = 1/12\n",
    "P4 = 1/12\n",
    "P5 = 1/12\n",
    "P6 = 1/3\n",
    "\n",
    "# エントロピー\n",
    "H = -P1 * np.log2(P1) -P2 * np.log2(P2)-P3 * np.log2(P3)-P4 * np.log2(P4)-P5 * np.log2(P5)-P6 * np.log2(P6)\n",
    "\n",
    "print(H)"
   ]
  }
 ],
 "metadata": {
  "kernelspec": {
   "display_name": "Python 3",
   "language": "python",
   "name": "python3"
  },
  "language_info": {
   "codemirror_mode": {
    "name": "ipython",
    "version": 3
   },
   "file_extension": ".py",
   "mimetype": "text/x-python",
   "name": "python",
   "nbconvert_exporter": "python",
   "pygments_lexer": "ipython3",
   "version": "3.8.5"
  }
 },
 "nbformat": 4,
 "nbformat_minor": 4
}
