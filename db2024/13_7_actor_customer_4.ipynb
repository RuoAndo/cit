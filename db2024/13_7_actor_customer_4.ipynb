テーブル 'actor' をインポートしました。
テーブル 'country' をインポートしました。
テーブル 'city' をインポートしました。
テーブル 'address' をインポートしました。
テーブル 'language' をインポートしました。
テーブル 'category' をインポートしました。
テーブル 'customer' をインポートしました。
テーブル 'film' をインポートしました。
テーブル 'film_actor' をインポートしました。
テーブル 'film_category' をインポートしました。
テーブル 'film_text' をインポートしました。
テーブル 'inventory' をインポートしました。
テーブル 'staff' をインポートしました。
テーブル 'store' をインポートしました。
テーブル 'payment' をインポートしました。
テーブル 'rental' をインポートしました。
すべてのテーブルが正しくロードされました。

=== ランダムに選ばれた3人の顧客の好む俳優トップ5 ===
       customer_id first_name_customer last_name_customer  actor_id  \
29876          290             KENNETH               TORN        94   
29878          290               KEVIN            GARLAND       127   
29905          290               RIVER               DEAN       143   
29920          290              WHOOPI               HURT       140   
29814          290                ADAM              GRANT        71   
45239          441                BURT            DUKAKIS        36   
45248          441              DEBBIE             AKROYD       182   
45280          441               JULIA            MCQUEEN        27   
45287          441             KIRSTEN             AKROYD        92   
45304          441                 RIP           CRAWFORD        26   
53756          525                ANNE             CRONYN        49   
53766          525                CUBA            OLIVIER        15   
53774          525             GROUCHO            SINATRA        78   
53809          525               RENEE              TRACY       117   
53764          525           CHRISTIAN             NEESON        61   

      first_name_actor last_name_actor  rental_count  
29876         KRISTINA        CHAMBERS             4  
29878         KRISTINA        CHAMBERS             4  
29905         KRISTINA        CHAMBERS             4  
29920         KRISTINA        CHAMBERS             4  
29814         KRISTINA        CHAMBERS             3  
45239            MARIO        CHEATHAM             3  
45248            MARIO        CHEATHAM             3  
45280            MARIO        CHEATHAM             3  
45287            MARIO        CHEATHAM             3  
45304            MARIO        CHEATHAM             3  
53756           ADRIAN           CLARY             4  
53766           ADRIAN           CLARY             3  
53774           ADRIAN           CLARY             3  
53809           ADRIAN           CLARY             3  
53764           ADRIAN           CLARY             2  
