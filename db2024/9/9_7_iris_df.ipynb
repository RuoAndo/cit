{
 "cells": [
  {
   "cell_type": "code",
   "execution_count": null,
   "metadata": {},
   "outputs": [],
   "source": [
    "# 必要なライブラリをインポート\n",
    "import pandas as pd\n",
    "\n",
    "# CSVファイルの読み込み\n",
    "csv_filename = \"iris_dataset.csv\"  # 保存したCSVファイル名\n",
    "df = pd.read_csv(csv_filename)\n",
    "\n",
    "# データフレームの表示\n",
    "print(\"Irisデータセットをデータフレームに格納しました:\")\n",
    "print(df.head())\n"
   ]
  }
 ],
 "metadata": {
  "language_info": {
   "name": "python"
  }
 },
 "nbformat": 4,
 "nbformat_minor": 2
}
