{
 "cells": [
  {
   "cell_type": "code",
   "execution_count": null,
   "metadata": {},
   "outputs": [],
   "source": [
    "import pandas as pd\n",
    "import matplotlib.pyplot as plt\n",
    "\n",
    "# CSVファイルのパスを指定\n",
    "file_path = '/mnt/data/5. movie.csv'\n",
    "\n",
    "# CSVファイルを読み込む\n",
    "try:\n",
    "    # データの読み込み\n",
    "    df = pd.read_csv(file_path)\n",
    "    \n",
    "    # データの概要を確認\n",
    "    print(\"データの概要:\")\n",
    "    df.info()\n",
    "    \n",
    "    # 数値データが含まれる列を確認\n",
    "    numeric_cols = df.select_dtypes(include=['float64', 'int64']).columns\n",
    "    \n",
    "    # 可視化の処理\n",
    "    if len(numeric_cols) > 1:\n",
    "        # 最初の2つの数値列を散布図で表示\n",
    "        plt.figure(figsize=(8, 6))\n",
    "        plt.scatter(df[numeric_cols[0]], df[numeric_cols[1]], alpha=0.6)\n",
    "        plt.title('Scatter Plot of Two Numeric Columns')\n",
    "        plt.xlabel(numeric_cols[0])\n",
    "        plt.ylabel(numeric_cols[1])\n",
    "        plt.grid(True)\n",
    "        plt.show()\n",
    "    elif len(numeric_cols) == 1:\n",
    "        # 数値列が1つしかない場合はヒストグラムを描画\n",
    "        plt.figure(figsize=(8, 6))\n",
    "        plt.hist(df[numeric_cols[0]], bins=20, alpha=0.7)\n",
    "        plt.title(f'Histogram of {numeric_cols[0]}')\n",
    "        plt.xlabel(numeric_cols[0])\n",
    "        plt.ylabel('Frequency')\n",
    "        plt.grid(True)\n",
    "        plt.show()\n",
    "    else:\n",
    "        # 数値データがない場合\n",
    "        print(\"数値データが見つかりませんでした。\")\n",
    "except Exception as e:\n",
    "    # エラーが発生した場合の処理\n",
    "    print(f\"エラーが発生しました: {e}\")\n"
   ]
  }
 ],
 "metadata": {
  "language_info": {
   "name": "python"
  }
 },
 "nbformat": 4,
 "nbformat_minor": 2
}
