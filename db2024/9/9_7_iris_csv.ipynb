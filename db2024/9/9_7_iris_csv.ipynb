{
 "cells": [
  {
   "cell_type": "code",
   "execution_count": 1,
   "metadata": {},
   "outputs": [
    {
     "name": "stdout",
     "output_type": "stream",
     "text": [
      "Irisデータセットを 'iris_dataset.csv' に保存しました。\n"
     ]
    }
   ],
   "source": [
    "# 必要なライブラリをインポート\n",
    "from sklearn.datasets import load_iris\n",
    "import pandas as pd\n",
    "\n",
    "# データセットのロード\n",
    "iris = load_iris()\n",
    "\n",
    "# データフレームに変換\n",
    "df = pd.DataFrame(iris.data, columns=iris.feature_names)\n",
    "df['target'] = iris.target\n",
    "df['species'] = df['target'].apply(lambda x: iris.target_names[x])\n",
    "\n",
    "# CSVファイルとして保存\n",
    "csv_filename = \"iris_dataset.csv\"  # 保存するファイル名\n",
    "df.to_csv(csv_filename, index=False)\n",
    "\n",
    "print(f\"Irisデータセットを '{csv_filename}' に保存しました。\")\n"
   ]
  }
 ],
 "metadata": {
  "kernelspec": {
   "display_name": "Python 3",
   "language": "python",
   "name": "python3"
  },
  "language_info": {
   "codemirror_mode": {
    "name": "ipython",
    "version": 3
   },
   "file_extension": ".py",
   "mimetype": "text/x-python",
   "name": "python",
   "nbconvert_exporter": "python",
   "pygments_lexer": "ipython3",
   "version": "3.12.8"
  }
 },
 "nbformat": 4,
 "nbformat_minor": 2
}
