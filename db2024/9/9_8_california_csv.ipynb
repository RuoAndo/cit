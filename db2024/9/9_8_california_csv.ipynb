{
 "cells": [
  {
   "cell_type": "code",
   "execution_count": 1,
   "metadata": {},
   "outputs": [
    {
     "name": "stdout",
     "output_type": "stream",
     "text": [
      "データをCSVファイル '8. california_housing.csv' に保存しました。\n"
     ]
    }
   ],
   "source": [
    "# 必要なライブラリをインポート\n",
    "from sklearn.datasets import fetch_california_housing\n",
    "import pandas as pd\n",
    "\n",
    "# データセットのロード\n",
    "california = fetch_california_housing(as_frame=True)\n",
    "\n",
    "# データフレームに変換\n",
    "df = california.frame\n",
    "\n",
    "# CSVファイルに保存\n",
    "output_file = \"8. california_housing.csv\"\n",
    "df.to_csv(output_file, index=False)\n",
    "\n",
    "print(f\"データをCSVファイル '{output_file}' に保存しました。\")\n"
   ]
  }
 ],
 "metadata": {
  "kernelspec": {
   "display_name": "Python 3",
   "language": "python",
   "name": "python3"
  },
  "language_info": {
   "codemirror_mode": {
    "name": "ipython",
    "version": 3
   },
   "file_extension": ".py",
   "mimetype": "text/x-python",
   "name": "python",
   "nbconvert_exporter": "python",
   "pygments_lexer": "ipython3",
   "version": "3.12.8"
  }
 },
 "nbformat": 4,
 "nbformat_minor": 2
}
