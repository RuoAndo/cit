{
 "cells": [
  {
   "cell_type": "code",
   "execution_count": null,
   "metadata": {},
   "outputs": [],
   "source": [
    "# 必要なライブラリをインポート\n",
    "import pandas as pd\n",
    "\n",
    "# ファイルのパスを指定\n",
    "file_path = '/mnt/data/1. employee.csv'  # アップロードされたファイルのパス\n",
    "\n",
    "# CSVファイルをデータフレームに読み込む\n",
    "df = pd.read_csv(file_path)\n",
    "\n",
    "# データフレームの先頭5行を表示\n",
    "print(\"データフレームの先頭:\")\n",
    "print(df.head())\n",
    "\n",
    "# データの基本情報を表示（任意）\n",
    "print(\"\\nデータの基本情報:\")\n",
    "print(df.info())\n"
   ]
  }
 ],
 "metadata": {
  "language_info": {
   "name": "python"
  }
 },
 "nbformat": 4,
 "nbformat_minor": 2
}
