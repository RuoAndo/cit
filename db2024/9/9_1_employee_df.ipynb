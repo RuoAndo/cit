{
 "cells": [
  {
   "cell_type": "code",
   "execution_count": 1,
   "metadata": {},
   "outputs": [
    {
     "name": "stdout",
     "output_type": "stream",
     "text": [
      "データフレームの先頭:\n",
      "   UNIQUE_ID               POSITION_TITLE                     DEPARTMENT  \\\n",
      "0          0  ASSISTANT DIRECTOR (EX LVL)    Municipal Courts Department   \n",
      "1          1            LIBRARY ASSISTANT                        Library   \n",
      "2          2               POLICE OFFICER  Houston Police Department-HPD   \n",
      "3          3            ENGINEER/OPERATOR  Houston Fire Department (HFD)   \n",
      "4          4                  ELECTRICIAN    General Services Department   \n",
      "\n",
      "   BASE_SALARY             RACE EMPLOYMENT_TYPE  GENDER EMPLOYMENT_STATUS  \\\n",
      "0     121862.0  Hispanic/Latino       Full Time  Female            Active   \n",
      "1      26125.0  Hispanic/Latino       Full Time  Female            Active   \n",
      "2      45279.0            White       Full Time    Male            Active   \n",
      "3      63166.0            White       Full Time    Male            Active   \n",
      "4      56347.0            White       Full Time    Male            Active   \n",
      "\n",
      "    HIRE_DATE    JOB_DATE  \n",
      "0  2006-06-12  2012-10-13  \n",
      "1  2000-07-19  2010-09-18  \n",
      "2  2015-02-03  2015-02-03  \n",
      "3  1982-02-08  1991-05-25  \n",
      "4  1989-06-19  1994-10-22  \n",
      "\n",
      "データの基本情報:\n",
      "<class 'pandas.core.frame.DataFrame'>\n",
      "RangeIndex: 2000 entries, 0 to 1999\n",
      "Data columns (total 10 columns):\n",
      " #   Column             Non-Null Count  Dtype  \n",
      "---  ------             --------------  -----  \n",
      " 0   UNIQUE_ID          2000 non-null   int64  \n",
      " 1   POSITION_TITLE     2000 non-null   object \n",
      " 2   DEPARTMENT         2000 non-null   object \n",
      " 3   BASE_SALARY        1886 non-null   float64\n",
      " 4   RACE               1965 non-null   object \n",
      " 5   EMPLOYMENT_TYPE    2000 non-null   object \n",
      " 6   GENDER             2000 non-null   object \n",
      " 7   EMPLOYMENT_STATUS  2000 non-null   object \n",
      " 8   HIRE_DATE          2000 non-null   object \n",
      " 9   JOB_DATE           1997 non-null   object \n",
      "dtypes: float64(1), int64(1), object(8)\n",
      "memory usage: 156.4+ KB\n",
      "None\n"
     ]
    }
   ],
   "source": [
    "# 必要なライブラリをインポート\n",
    "import pandas as pd\n",
    "\n",
    "# ファイルのパスを指定\n",
    "file_path = '1. employee.csv'  # アップロードされたファイルのパス\n",
    "\n",
    "# CSVファイルをデータフレームに読み込む\n",
    "df = pd.read_csv(file_path)\n",
    "\n",
    "# データフレームの先頭5行を表示\n",
    "print(\"データフレームの先頭:\")\n",
    "print(df.head())\n",
    "\n",
    "# データの基本情報を表示（任意）\n",
    "print(\"\\nデータの基本情報:\")\n",
    "print(df.info())\n"
   ]
  }
 ],
 "metadata": {
  "kernelspec": {
   "display_name": "Python 3",
   "language": "python",
   "name": "python3"
  },
  "language_info": {
   "codemirror_mode": {
    "name": "ipython",
    "version": 3
   },
   "file_extension": ".py",
   "mimetype": "text/x-python",
   "name": "python",
   "nbconvert_exporter": "python",
   "pygments_lexer": "ipython3",
   "version": "3.12.8"
  }
 },
 "nbformat": 4,
 "nbformat_minor": 2
}
