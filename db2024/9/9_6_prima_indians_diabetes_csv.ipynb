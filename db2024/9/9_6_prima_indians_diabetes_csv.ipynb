{
 "cells": [
  {
   "cell_type": "code",
   "execution_count": null,
   "metadata": {},
   "outputs": [],
   "source": [
    "import pandas as pd\n",
    "\n",
    "# データセットを読み込む\n",
    "url = \"https://raw.githubusercontent.com/jbrownlee/Datasets/master/pima-indians-diabetes.data.csv\"\n",
    "columns = [\"Pregnancies\", \"Glucose\", \"BloodPressure\", \"SkinThickness\", \"Insulin\",\n",
    "           \"BMI\", \"DiabetesPedigreeFunction\", \"Age\", \"Outcome\"]\n",
    "df = pd.read_csv(url, header=None, names=columns)\n",
    "\n",
    "# CSVファイルとして保存\n",
    "output_file = \"pima_indians_diabetes.csv\"\n",
    "df.to_csv(output_file, index=False)\n",
    "\n",
    "print(f\"データをCSVファイル '{output_file}' に保存しました。\")\n"
   ]
  }
 ],
 "metadata": {
  "language_info": {
   "name": "python"
  }
 },
 "nbformat": 4,
 "nbformat_minor": 2
}
