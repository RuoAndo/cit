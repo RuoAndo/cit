{
 "cells": [
  {
   "cell_type": "code",
   "execution_count": null,
   "metadata": {},
   "outputs": [],
   "source": [
    "import sqlite3\n",
    "import csv\n",
    "import os\n",
    "\n",
    "# データベースのパス\n",
    "db_path = \"sakila_master.db\"\n",
    "\n",
    "# CSVファイルの保存ディレクトリ\n",
    "output_dir = \"csv_exports\"\n",
    "os.makedirs(output_dir, exist_ok=True)\n",
    "\n",
    "# データベースに接続\n",
    "conn = sqlite3.connect(db_path)\n",
    "cursor = conn.cursor()\n",
    "\n",
    "# テーブル名を取得\n",
    "cursor.execute(\"SELECT name FROM sqlite_master WHERE type='table';\")\n",
    "tables = cursor.fetchall()\n",
    "\n",
    "# 各テーブルをCSVにエクスポート\n",
    "for table in tables:\n",
    "    table_name = table[0]\n",
    "    csv_file_path = os.path.join(output_dir, f\"{table_name}.csv\")\n",
    "    \n",
    "    # データ取得\n",
    "    cursor.execute(f\"SELECT * FROM {table_name};\")\n",
    "    rows = cursor.fetchall()\n",
    "    \n",
    "    # カラム名を取得\n",
    "    cursor.execute(f\"PRAGMA table_info({table_name});\")\n",
    "    column_names = [col[1] for col in cursor.fetchall()]\n",
    "    \n",
    "    # CSVに書き込み\n",
    "    with open(csv_file_path, mode='w', newline='', encoding='utf-8') as csv_file:\n",
    "        writer = csv.writer(csv_file)\n",
    "        writer.writerow(column_names)  # カラム名を書き込み\n",
    "        writer.writerows(rows)         # データを書き込み\n",
    "    \n",
    "    print(f\"テーブル '{table_name}' をCSVファイルにエクスポートしました: {csv_file_path}\")\n",
    "\n",
    "# データベース接続を閉じる\n",
    "conn.close()\n"
   ]
  }
 ],
 "metadata": {
  "language_info": {
   "name": "python"
  }
 },
 "nbformat": 4,
 "nbformat_minor": 2
}
