{
 "cells": [
  {
   "cell_type": "code",
   "execution_count": 1,
   "metadata": {},
   "outputs": [
    {
     "name": "stdout",
     "output_type": "stream",
     "text": [
      "すべてのテーブルデータを 'all_tables_export.csv' にエクスポートしました。\n"
     ]
    }
   ],
   "source": [
    "import sqlite3\n",
    "import csv\n",
    "\n",
    "# データベースのパス\n",
    "db_path = \"sakila_master.db\"\n",
    "\n",
    "# 出力するCSVファイルのパス\n",
    "csv_file_path = \"all_tables_export.csv\"\n",
    "\n",
    "# データベースに接続\n",
    "conn = sqlite3.connect(db_path)\n",
    "cursor = conn.cursor()\n",
    "\n",
    "# テーブル名を取得\n",
    "cursor.execute(\"SELECT name FROM sqlite_master WHERE type='table';\")\n",
    "tables = cursor.fetchall()\n",
    "\n",
    "# CSVに書き込み\n",
    "with open(csv_file_path, mode='w', newline='', encoding='utf-8') as csv_file:\n",
    "    writer = csv.writer(csv_file)\n",
    "\n",
    "    for table in tables:\n",
    "        table_name = table[0]\n",
    "        \n",
    "        # テーブル名を見出しとして追加\n",
    "        writer.writerow([f\"=== {table_name} ===\"])\n",
    "        \n",
    "        # データ取得\n",
    "        cursor.execute(f\"SELECT * FROM {table_name};\")\n",
    "        rows = cursor.fetchall()\n",
    "        \n",
    "        # カラム名を取得\n",
    "        cursor.execute(f\"PRAGMA table_info({table_name});\")\n",
    "        column_names = [col[1] for col in cursor.fetchall()]\n",
    "        \n",
    "        # カラム名を書き込み\n",
    "        writer.writerow(column_names)\n",
    "        \n",
    "        # データを書き込み\n",
    "        writer.writerows(rows)\n",
    "        \n",
    "        # 空行を追加（次のテーブルとの区切り）\n",
    "        writer.writerow([])\n",
    "\n",
    "print(f\"すべてのテーブルデータを '{csv_file_path}' にエクスポートしました。\")\n",
    "\n",
    "# データベース接続を閉じる\n",
    "conn.close()\n"
   ]
  }
 ],
 "metadata": {
  "kernelspec": {
   "display_name": "Python 3",
   "language": "python",
   "name": "python3"
  },
  "language_info": {
   "codemirror_mode": {
    "name": "ipython",
    "version": 3
   },
   "file_extension": ".py",
   "mimetype": "text/x-python",
   "name": "python",
   "nbconvert_exporter": "python",
   "pygments_lexer": "ipython3",
   "version": "3.12.8"
  }
 },
 "nbformat": 4,
 "nbformat_minor": 2
}
