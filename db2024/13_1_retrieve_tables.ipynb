{
 "cells": [
  {
   "cell_type": "code",
   "execution_count": null,
   "metadata": {},
   "outputs": [],
   "source": [
    "import sqlite3\n",
    "\n",
    "# データベースに接続\n",
    "db_path = \"sakila_master.db\"\n",
    "conn = sqlite3.connect(db_path)\n",
    "cursor = conn.cursor()\n",
    "\n",
    "# テーブル名を取得\n",
    "cursor.execute(\"SELECT name FROM sqlite_master WHERE type='table';\")\n",
    "tables = cursor.fetchall()\n",
    "\n",
    "# 各テーブルのデータを表示\n",
    "for table in tables:\n",
    "    table_name = table[0]\n",
    "    print(f\"\\n=== {table_name} ===\")\n",
    "    cursor.execute(f\"SELECT * FROM {table_name};\")\n",
    "    rows = cursor.fetchall()\n",
    "    \n",
    "    # カラム名を取得\n",
    "    cursor.execute(f\"PRAGMA table_info({table_name});\")\n",
    "    column_names = [col[1] for col in cursor.fetchall()]\n",
    "    print(\", \".join(column_names))\n",
    "    \n",
    "    # データ表示\n",
    "    for row in rows:\n",
    "        print(row)\n",
    "\n",
    "conn.close()\n"
   ]
  }
 ],
 "metadata": {
  "language_info": {
   "name": "python"
  }
 },
 "nbformat": 4,
 "nbformat_minor": 2
}
