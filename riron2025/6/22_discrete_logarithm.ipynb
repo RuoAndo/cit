{
 "cells": [
  {
   "cell_type": "code",
   "execution_count": 1,
   "id": "354ad165",
   "metadata": {},
   "outputs": [
    {
     "name": "stdout",
     "output_type": "stream",
     "text": [
      "解は x = 6\n"
     ]
    }
   ],
   "source": [
    "def discrete_log_brute_force(g, y, p):\n",
    "    \"\"\"\n",
    "    離散対数問題：g^x ≡ y (mod p) を総当たりで解く\n",
    "    :param g: 生成元\n",
    "    :param y: 与えられた値\n",
    "    :param p: 素数（法）\n",
    "    :return: x（存在すれば）または None\n",
    "    \"\"\"\n",
    "    for x in range(1, p):\n",
    "        if pow(g, x, p) == y:\n",
    "            return x\n",
    "    return None\n",
    "\n",
    "# 例：5^x ≡ 8 mod 23 を解く\n",
    "g = 5\n",
    "y = 8\n",
    "p = 23\n",
    "\n",
    "x = discrete_log_brute_force(g, y, p)\n",
    "if x is not None:\n",
    "    print(f\"解は x = {x}\")\n",
    "else:\n",
    "    print(\"解は見つかりませんでした。\")\n"
   ]
  }
 ],
 "metadata": {
  "kernelspec": {
   "display_name": "Python 3",
   "language": "python",
   "name": "python3"
  },
  "language_info": {
   "codemirror_mode": {
    "name": "ipython",
    "version": 3
   },
   "file_extension": ".py",
   "mimetype": "text/x-python",
   "name": "python",
   "nbconvert_exporter": "python",
   "pygments_lexer": "ipython3",
   "version": "3.12.10"
  }
 },
 "nbformat": 4,
 "nbformat_minor": 5
}
