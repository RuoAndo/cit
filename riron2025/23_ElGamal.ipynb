{
 "cells": [
  {
   "cell_type": "code",
   "execution_count": 2,
   "id": "13c2ab08",
   "metadata": {},
   "outputs": [
    {
     "name": "stdout",
     "output_type": "stream",
     "text": [
      "暗号文: (19, 3)\n",
      "復号結果: 13\n"
     ]
    }
   ],
   "source": [
    "# 拡張ユークリッド互除法：mod逆数計算に必要\n",
    "def modinv(a, p):\n",
    "    \"\"\"a^-1 mod p を計算\"\"\"\n",
    "    r0, r1 = a, p\n",
    "    s0, s1 = 1, 0\n",
    "    while r1:\n",
    "        q = r0 // r1\n",
    "        r0, r1 = r1, r0 - q * r1\n",
    "        s0, s1 = s1, s0 - q * s1\n",
    "    return s0 % p\n",
    "\n",
    "# ElGamal鍵生成\n",
    "def elgamal_keygen(p, g, x):\n",
    "    y = pow(g, x, p)\n",
    "    return (p, g, y), x  # (公開鍵, 秘密鍵)\n",
    "\n",
    "# 暗号化\n",
    "def elgamal_encrypt(m, pubkey, k):\n",
    "    p, g, y = pubkey\n",
    "    c1 = pow(g, k, p)\n",
    "    c2 = (m * pow(y, k, p)) % p\n",
    "    return (c1, c2)\n",
    "\n",
    "# 復号\n",
    "def elgamal_decrypt(ciphertext, privkey, p):\n",
    "    c1, c2 = ciphertext\n",
    "    s = pow(c1, privkey, p)\n",
    "    s_inv = modinv(s, p)\n",
    "    m = (c2 * s_inv) % p\n",
    "    return m\n",
    "\n",
    "# ----- 実行例 -----\n",
    "# パラメータ設定（安全性のためには p は大きな素数にすべき）\n",
    "p = 23       # 素数\n",
    "g = 5        # 原始根（生成元）\n",
    "x = 6        # 秘密鍵\n",
    "m = 13       # メッセージ（平文）\n",
    "k = 15       # 暗号化時の乱数（毎回変えるべき）\n",
    "\n",
    "# 鍵生成\n",
    "pubkey, privkey = elgamal_keygen(p, g, x)\n",
    "\n",
    "# 暗号化\n",
    "cipher = elgamal_encrypt(m, pubkey, k)\n",
    "print(\"暗号文:\", cipher)\n",
    "\n",
    "# 復号\n",
    "decrypted = elgamal_decrypt(cipher, privkey, p)\n",
    "print(\"復号結果:\", decrypted)\n"
   ]
  }
 ],
 "metadata": {
  "kernelspec": {
   "display_name": "Python 3",
   "language": "python",
   "name": "python3"
  },
  "language_info": {
   "codemirror_mode": {
    "name": "ipython",
    "version": 3
   },
   "file_extension": ".py",
   "mimetype": "text/x-python",
   "name": "python",
   "nbconvert_exporter": "python",
   "pygments_lexer": "ipython3",
   "version": "3.12.10"
  }
 },
 "nbformat": 4,
 "nbformat_minor": 5
}
