{
 "cells": [
  {
   "cell_type": "code",
   "execution_count": 2,
   "id": "ae766a92",
   "metadata": {},
   "outputs": [
    {
     "name": "stderr",
     "output_type": "stream",
     "text": [
      "C:\\Users\\flare\\AppData\\Local\\Temp\\ipykernel_12008\\3555034133.py:31: FutureWarning: You are using `torch.load` with `weights_only=False` (the current default value), which uses the default pickle module implicitly. It is possible to construct malicious pickle data which will execute arbitrary code during unpickling (See https://github.com/pytorch/pytorch/blob/main/SECURITY.md#untrusted-models for more details). In a future release, the default value for `weights_only` will be flipped to `True`. This limits the functions that could be executed during unpickling. Arbitrary objects will no longer be allowed to be loaded via this mode unless they are explicitly allowlisted by the user via `torch.serialization.add_safe_globals`. We recommend you start setting `weights_only=True` for any use case where you don't have full control of the loaded file. Please open an issue on GitHub for any issues related to this experimental feature.\n",
      "  model.load_state_dict(torch.load(\"mnist_cnn.pth\"))  # 事前学習済みモデルが必要\n"
     ]
    },
    {
     "data": {
      "image/png": "[encoded data removed]",
      "text/plain": [
       "<Figure size 640x480 with 2 Axes>"
      ]
     },
     "metadata": {},
     "output_type": "display_data"
    }
   ],
   "source": [
    "import torch\n",
    "import torch.nn as nn\n",
    "import torch.nn.functional as F\n",
    "import torchvision\n",
    "import torchvision.transforms as transforms\n",
    "import matplotlib.pyplot as plt\n",
    "\n",
    "# モデル定義（簡単なCNN）\n",
    "class Net(nn.Module):\n",
    "    def __init__(self):\n",
    "        super(Net, self).__init__()\n",
    "        self.conv1 = nn.Conv2d(1, 10, kernel_size=5)\n",
    "        self.conv2 = nn.Conv2d(10, 20, kernel_size=5)\n",
    "        self.fc1 = nn.Linear(320, 50)\n",
    "        self.fc2 = nn.Linear(50, 10)\n",
    "\n",
    "    def forward(self, x):\n",
    "        x = F.relu(F.max_pool2d(self.conv1(x), 2))\n",
    "        x = F.relu(F.max_pool2d(self.conv2(x), 2))\n",
    "        x = x.view(-1, 320)\n",
    "        x = F.relu(self.fc1(x))\n",
    "        return self.fc2(x)\n",
    "\n",
    "# データセット読み込み\n",
    "transform = transforms.ToTensor()\n",
    "testset = torchvision.datasets.MNIST(root='./data', train=False, download=True, transform=transform)\n",
    "testloader = torch.utils.data.DataLoader(testset, batch_size=1, shuffle=True)\n",
    "\n",
    "device = torch.device(\"cuda\" if torch.cuda.is_available() else \"cpu\")\n",
    "model = Net().to(device)\n",
    "model.load_state_dict(torch.load(\"mnist_cnn.pth\"))  # 事前学習済みモデルが必要\n",
    "model.eval()\n",
    "\n",
    "# FGSM関数\n",
    "def fgsm_attack(image, epsilon, data_grad):\n",
    "    return torch.clamp(image + epsilon * data_grad.sign(), 0, 1)\n",
    "\n",
    "# 1枚選んで攻撃\n",
    "dataiter = iter(testloader)\n",
    "images, labels = next(dataiter)\n",
    "images, labels = images.to(device), labels.to(device)\n",
    "images.requires_grad = True\n",
    "\n",
    "output = model(images)\n",
    "init_pred = output.max(1, keepdim=True)[1]\n",
    "\n",
    "loss = F.nll_loss(F.log_softmax(output, dim=1), labels)\n",
    "model.zero_grad()\n",
    "loss.backward()\n",
    "data_grad = images.grad.data\n",
    "\n",
    "epsilon = 0.25\n",
    "perturbed_data = fgsm_attack(images, epsilon, data_grad)\n",
    "\n",
    "# 攻撃後予測\n",
    "output_adv = model(perturbed_data)\n",
    "final_pred = output_adv.max(1, keepdim=True)[1]\n",
    "\n",
    "# 表示\n",
    "plt.subplot(1, 2, 1)\n",
    "plt.title(f\"Original: {init_pred.item()}\")\n",
    "plt.imshow(images.squeeze().cpu().detach(), cmap=\"gray\")\n",
    "plt.axis('off')\n",
    "\n",
    "plt.subplot(1, 2, 2)\n",
    "plt.title(f\"Adversarial: {final_pred.item()}\")\n",
    "plt.imshow(perturbed_data.squeeze().cpu().detach(), cmap=\"gray\")\n",
    "plt.axis('off')\n",
    "plt.tight_layout()\n",
    "plt.show()\n"
   ]
  }
 ],
 "metadata": {
  "kernelspec": {
   "display_name": "Python 3",
   "language": "python",
   "name": "python3"
  },
  "language_info": {
   "codemirror_mode": {
    "name": "ipython",
    "version": 3
   },
   "file_extension": ".py",
   "mimetype": "text/x-python",
   "name": "python",
   "nbconvert_exporter": "python",
   "pygments_lexer": "ipython3",
   "version": "3.12.10"
  }
 },
 "nbformat": 4,
 "nbformat_minor": 5
}
