{
 "cells": [
  {
   "cell_type": "code",
   "execution_count": null,
   "id": "40baa9a9",
   "metadata": {},
   "outputs": [],
   "source": [
    "def poly_mod(dividend, divisor, p):\n",
    "    \"\"\"\n",
    "    GF(p)上での多項式除算による剰余計算。\n",
    "    dividend, divisor: 係数リスト（高次から低次）\n",
    "    p: 素数（GF(p)）\n",
    "\n",
    "    返り値: 剰余の係数リスト（高次から低次）\n",
    "    \"\"\"\n",
    "    dividend = dividend[:]  # コピー\n",
    "    while len(dividend) >= len(divisor):\n",
    "        coeff = dividend[0] * pow(divisor[0], -1, p) % p\n",
    "        for i in range(len(divisor)):\n",
    "            dividend[i] = (dividend[i] - coeff * divisor[i]) % p\n",
    "        while dividend and dividend[0] == 0:\n",
    "            dividend.pop(0)\n",
    "    return dividend or [0]\n",
    "\n",
    "# 例:\n",
    "# dividend: x^3 + 3x^2 + 5x + 2 → [1, 3, 5, 2]\n",
    "# divisor: x^2 + 1 → [1, 0, 1]\n",
    "# GF(7) 上で計算\n",
    "\n",
    "dividend = [1, 3, 5, 2]\n",
    "divisor = [1, 0, 1]\n",
    "p = 7\n",
    "\n",
    "remainder = poly_mod(dividend, divisor, p)\n",
    "print(f\"剰余: {remainder}\")\n"
   ]
  }
 ],
 "metadata": {
  "language_info": {
   "name": "python"
  }
 },
 "nbformat": 4,
 "nbformat_minor": 5
}
