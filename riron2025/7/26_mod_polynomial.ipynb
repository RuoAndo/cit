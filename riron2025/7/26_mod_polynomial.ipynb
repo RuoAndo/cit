{
 "cells": [
  {
   "cell_type": "code",
   "execution_count": 1,
   "id": "0518d8f5",
   "metadata": {},
   "outputs": [
    {
     "name": "stdout",
     "output_type": "stream",
     "text": [
      "剰余 (binary): 0b1\n"
     ]
    }
   ],
   "source": [
    "def poly_div_mod(dividend, divisor):\n",
    "    \"\"\"\n",
    "    GF(2)上での多項式除算。剰余を返す。\n",
    "    dividend, divisor: 整数（ビット列として多項式を表現）\n",
    "    \"\"\"\n",
    "    deg_divisor = divisor.bit_length() - 1\n",
    "    while dividend.bit_length() >= divisor.bit_length():\n",
    "        shift = dividend.bit_length() - deg_divisor - 1\n",
    "        dividend ^= (divisor << shift)\n",
    "    return dividend  # これは剰余\n",
    "\n",
    "# 例:\n",
    "# x^7 + x^6 + x^2 + 1 → 0b11000101（197）\n",
    "# x^3 + x + 1 → 0b1011（11）\n",
    "\n",
    "dividend = 0b11000101  # 被除数\n",
    "divisor = 0b1011       # 除数\n",
    "remainder = poly_div_mod(dividend, divisor)\n",
    "\n",
    "print(f\"剰余 (binary): {bin(remainder)}\")"
   ]
  }
 ],
 "metadata": {
  "kernelspec": {
   "display_name": "Python 3",
   "language": "python",
   "name": "python3"
  },
  "language_info": {
   "codemirror_mode": {
    "name": "ipython",
    "version": 3
   },
   "file_extension": ".py",
   "mimetype": "text/x-python",
   "name": "python",
   "nbconvert_exporter": "python",
   "pygments_lexer": "ipython3",
   "version": "3.12.10"
  }
 },
 "nbformat": 4,
 "nbformat_minor": 5
}
