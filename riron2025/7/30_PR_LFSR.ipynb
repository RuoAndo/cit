{
 "cells": [
  {
   "cell_type": "code",
   "execution_count": 1,
   "id": "78a42f40",
   "metadata": {},
   "outputs": [
    {
     "name": "stderr",
     "output_type": "stream",
     "text": [
      "C:\\Users\\flare\\AppData\\Local\\Temp\\ipykernel_17232\\2712882022.py:34: UserWarning: Glyph 12473 (\\N{KATAKANA LETTER SU}) missing from current font.\n",
      "  plt.tight_layout()\n",
      "C:\\Users\\flare\\AppData\\Local\\Temp\\ipykernel_17232\\2712882022.py:34: UserWarning: Glyph 12486 (\\N{KATAKANA LETTER TE}) missing from current font.\n",
      "  plt.tight_layout()\n",
      "C:\\Users\\flare\\AppData\\Local\\Temp\\ipykernel_17232\\2712882022.py:34: UserWarning: Glyph 12483 (\\N{KATAKANA LETTER SMALL TU}) missing from current font.\n",
      "  plt.tight_layout()\n",
      "C:\\Users\\flare\\AppData\\Local\\Temp\\ipykernel_17232\\2712882022.py:34: UserWarning: Glyph 12503 (\\N{KATAKANA LETTER PU}) missing from current font.\n",
      "  plt.tight_layout()\n",
      "C:\\Users\\flare\\AppData\\Local\\Temp\\ipykernel_17232\\2712882022.py:34: UserWarning: Glyph 25968 (\\N{CJK UNIFIED IDEOGRAPH-6570}) missing from current font.\n",
      "  plt.tight_layout()\n",
      "C:\\Users\\flare\\AppData\\Local\\Temp\\ipykernel_17232\\2712882022.py:34: UserWarning: Glyph 12499 (\\N{KATAKANA LETTER BI}) missing from current font.\n",
      "  plt.tight_layout()\n",
      "C:\\Users\\flare\\AppData\\Local\\Temp\\ipykernel_17232\\2712882022.py:34: UserWarning: Glyph 12488 (\\N{KATAKANA LETTER TO}) missing from current font.\n",
      "  plt.tight_layout()\n",
      "C:\\Users\\flare\\AppData\\Local\\Temp\\ipykernel_17232\\2712882022.py:34: UserWarning: Glyph 20516 (\\N{CJK UNIFIED IDEOGRAPH-5024}) missing from current font.\n",
      "  plt.tight_layout()\n",
      "C:\\Users\\flare\\AppData\\Local\\Temp\\ipykernel_17232\\2712882022.py:34: UserWarning: Glyph 31995 (\\N{CJK UNIFIED IDEOGRAPH-7CFB}) missing from current font.\n",
      "  plt.tight_layout()\n",
      "C:\\Users\\flare\\AppData\\Local\\Temp\\ipykernel_17232\\2712882022.py:34: UserWarning: Glyph 21015 (\\N{CJK UNIFIED IDEOGRAPH-5217}) missing from current font.\n",
      "  plt.tight_layout()\n",
      "C:\\Users\\flare\\AppData\\Local\\Packages\\PythonSoftwareFoundation.Python.3.12_qbz5n2kfra8p0\\LocalCache\\local-packages\\Python312\\site-packages\\IPython\\core\\pylabtools.py:170: UserWarning: Glyph 12499 (\\N{KATAKANA LETTER BI}) missing from current font.\n",
      "  fig.canvas.print_figure(bytes_io, **kw)\n",
      "C:\\Users\\flare\\AppData\\Local\\Packages\\PythonSoftwareFoundation.Python.3.12_qbz5n2kfra8p0\\LocalCache\\local-packages\\Python312\\site-packages\\IPython\\core\\pylabtools.py:170: UserWarning: Glyph 12483 (\\N{KATAKANA LETTER SMALL TU}) missing from current font.\n",
      "  fig.canvas.print_figure(bytes_io, **kw)\n",
      "C:\\Users\\flare\\AppData\\Local\\Packages\\PythonSoftwareFoundation.Python.3.12_qbz5n2kfra8p0\\LocalCache\\local-packages\\Python312\\site-packages\\IPython\\core\\pylabtools.py:170: UserWarning: Glyph 12488 (\\N{KATAKANA LETTER TO}) missing from current font.\n",
      "  fig.canvas.print_figure(bytes_io, **kw)\n",
      "C:\\Users\\flare\\AppData\\Local\\Packages\\PythonSoftwareFoundation.Python.3.12_qbz5n2kfra8p0\\LocalCache\\local-packages\\Python312\\site-packages\\IPython\\core\\pylabtools.py:170: UserWarning: Glyph 20516 (\\N{CJK UNIFIED IDEOGRAPH-5024}) missing from current font.\n",
      "  fig.canvas.print_figure(bytes_io, **kw)\n",
      "C:\\Users\\flare\\AppData\\Local\\Packages\\PythonSoftwareFoundation.Python.3.12_qbz5n2kfra8p0\\LocalCache\\local-packages\\Python312\\site-packages\\IPython\\core\\pylabtools.py:170: UserWarning: Glyph 31995 (\\N{CJK UNIFIED IDEOGRAPH-7CFB}) missing from current font.\n",
      "  fig.canvas.print_figure(bytes_io, **kw)\n",
      "C:\\Users\\flare\\AppData\\Local\\Packages\\PythonSoftwareFoundation.Python.3.12_qbz5n2kfra8p0\\LocalCache\\local-packages\\Python312\\site-packages\\IPython\\core\\pylabtools.py:170: UserWarning: Glyph 21015 (\\N{CJK UNIFIED IDEOGRAPH-5217}) missing from current font.\n",
      "  fig.canvas.print_figure(bytes_io, **kw)\n",
      "C:\\Users\\flare\\AppData\\Local\\Packages\\PythonSoftwareFoundation.Python.3.12_qbz5n2kfra8p0\\LocalCache\\local-packages\\Python312\\site-packages\\IPython\\core\\pylabtools.py:170: UserWarning: Glyph 12473 (\\N{KATAKANA LETTER SU}) missing from current font.\n",
      "  fig.canvas.print_figure(bytes_io, **kw)\n",
      "C:\\Users\\flare\\AppData\\Local\\Packages\\PythonSoftwareFoundation.Python.3.12_qbz5n2kfra8p0\\LocalCache\\local-packages\\Python312\\site-packages\\IPython\\core\\pylabtools.py:170: UserWarning: Glyph 12486 (\\N{KATAKANA LETTER TE}) missing from current font.\n",
      "  fig.canvas.print_figure(bytes_io, **kw)\n",
      "C:\\Users\\flare\\AppData\\Local\\Packages\\PythonSoftwareFoundation.Python.3.12_qbz5n2kfra8p0\\LocalCache\\local-packages\\Python312\\site-packages\\IPython\\core\\pylabtools.py:170: UserWarning: Glyph 12503 (\\N{KATAKANA LETTER PU}) missing from current font.\n",
      "  fig.canvas.print_figure(bytes_io, **kw)\n",
      "C:\\Users\\flare\\AppData\\Local\\Packages\\PythonSoftwareFoundation.Python.3.12_qbz5n2kfra8p0\\LocalCache\\local-packages\\Python312\\site-packages\\IPython\\core\\pylabtools.py:170: UserWarning: Glyph 25968 (\\N{CJK UNIFIED IDEOGRAPH-6570}) missing from current font.\n",
      "  fig.canvas.print_figure(bytes_io, **kw)\n"
     ]
    },
    {
     "data": {
      "image/png": "[encoded data removed]",
      "text/plain": [
       "<Figure size 1000x200 with 1 Axes>"
      ]
     },
     "metadata": {},
     "output_type": "display_data"
    }
   ],
   "source": [
    "import matplotlib.pyplot as plt\n",
    "\n",
    "def lfsr(seed, taps, length):\n",
    "    sr = seed[:]\n",
    "    n = len(seed)\n",
    "    result = []\n",
    "\n",
    "    for _ in range(length):\n",
    "        xor = 0\n",
    "        for t in taps:\n",
    "            xor ^= sr[-t]\n",
    "        result.append(sr[-1])\n",
    "        sr = [xor] + sr[:-1]\n",
    "    return result\n",
    "\n",
    "# パラメータ設定\n",
    "seed = [1, 0, 0, 0]\n",
    "taps = [4, 1]\n",
    "length = 15\n",
    "\n",
    "# シーケンス生成\n",
    "sequence = lfsr(seed, taps, length)\n",
    "\n",
    "# 📊 可視化\n",
    "plt.figure(figsize=(10, 2))\n",
    "plt.step(range(length), sequence, where='mid', linewidth=2)\n",
    "plt.ylim(-0.5, 1.5)\n",
    "plt.yticks([0, 1])\n",
    "plt.xticks(range(length))\n",
    "plt.grid(True)\n",
    "plt.title(\"LFSR Output Sequence (m系列)\")\n",
    "plt.xlabel(\"ステップ数\")\n",
    "plt.ylabel(\"ビット値\")\n",
    "plt.tight_layout()\n",
    "plt.show()\n"
   ]
  }
 ],
 "metadata": {
  "kernelspec": {
   "display_name": "Python 3",
   "language": "python",
   "name": "python3"
  },
  "language_info": {
   "codemirror_mode": {
    "name": "ipython",
    "version": 3
   },
   "file_extension": ".py",
   "mimetype": "text/x-python",
   "name": "python",
   "nbconvert_exporter": "python",
   "pygments_lexer": "ipython3",
   "version": "3.12.10"
  }
 },
 "nbformat": 4,
 "nbformat_minor": 5
}
