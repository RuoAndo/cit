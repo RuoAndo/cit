{
 "cells": [
  {
   "cell_type": "code",
   "execution_count": null,
   "id": "f1c82edb",
   "metadata": {},
   "outputs": [],
   "source": [
    "def shift_register_div(dividend, divisor):\n",
    "    \"\"\"\n",
    "    GF(2)におけるシフトレジスタ風の多項式除算\n",
    "    dividend, divisor: int（ビット列としての多項式）\n",
    "    返り値: 剰余（int）\n",
    "    \"\"\"\n",
    "    deg_divisor = divisor.bit_length() - 1\n",
    "    while dividend.bit_length() >= divisor.bit_length():\n",
    "        shift = dividend.bit_length() - divisor.bit_length()\n",
    "        dividend ^= (divisor << shift)\n",
    "    return dividend  # 剰余\n",
    "\n",
    "# 例: x^7 + x^6 + x^2 + 1 を x^3 + x + 1 で割る\n",
    "dividend = 0b11000101  # = x^7 + x^6 + x^2 + 1\n",
    "divisor = 0b1011       # = x^3 + x + 1\n",
    "\n",
    "remainder = shift_register_div(dividend, divisor)\n",
    "print(f\"剰余: {bin(remainder)}\")  # 2進表示\n"
   ]
  }
 ],
 "metadata": {
  "language_info": {
   "name": "python"
  }
 },
 "nbformat": 4,
 "nbformat_minor": 5
}
