{
 "cells": [
  {
   "cell_type": "code",
   "execution_count": 1,
   "id": "c20638a9",
   "metadata": {},
   "outputs": [
    {
     "name": "stdout",
     "output_type": "stream",
     "text": [
      "元データ（4ビット）     : 1011\n",
      "エンコード（7ビット）   : 0110011\n",
      "6番目のビットを反転（誤り挿入）\n",
      "破損データ              : 0110001\n",
      "誤りを検出：6 番目のビットを修正\n",
      "訂正後データ            : 0110011\n",
      "復元された元データ      : 1011\n"
     ]
    }
   ],
   "source": [
    "import random\n",
    "\n",
    "def encode_hamming_7_4(d):\n",
    "    \"\"\"\n",
    "    Hamming(7,4) エンコード\n",
    "    d: 4ビットの文字列（例: '1011'）\n",
    "    戻り値: 7ビットのエンコード結果（例: '0110011'）\n",
    "    \"\"\"\n",
    "    d1, d2, d3, d4 = map(int, d)\n",
    "\n",
    "    # パリティビット計算\n",
    "    p1 = d1 ^ d2 ^ d4\n",
    "    p2 = d1 ^ d3 ^ d4\n",
    "    p4 = d2 ^ d3 ^ d4\n",
    "\n",
    "    # 配置：p1, p2, d1, p4, d2, d3, d4\n",
    "    return f\"{p1}{p2}{d1}{p4}{d2}{d3}{d4}\"\n",
    "\n",
    "def decode_hamming_7_4(encoded):\n",
    "    \"\"\"\n",
    "    Hamming(7,4) デコードと誤り訂正\n",
    "    戻り値: (訂正済みビット列, 訂正位置（なければ0）)\n",
    "    \"\"\"\n",
    "    bits = list(map(int, encoded))\n",
    "    p1, p2, d1, p4, d2, d3, d4 = bits\n",
    "\n",
    "    # 各パリティの検査\n",
    "    s1 = p1 ^ d1 ^ d2 ^ d4\n",
    "    s2 = p2 ^ d1 ^ d3 ^ d4\n",
    "    s4 = p4 ^ d2 ^ d3 ^ d4\n",
    "\n",
    "    # シンドロームから誤り位置（二進 → 十進）\n",
    "    error_pos = s4 * 4 + s2 * 2 + s1 * 1\n",
    "\n",
    "    if error_pos != 0:\n",
    "        print(f\"誤りを検出：{error_pos} 番目のビットを修正\")\n",
    "        bits[error_pos - 1] ^= 1  # 反転して訂正\n",
    "\n",
    "    # 訂正後のデータビットを取り出し\n",
    "    corrected = ''.join(map(str, bits))\n",
    "    data_bits = corrected[2] + corrected[4] + corrected[5] + corrected[6]\n",
    "    return corrected, error_pos, data_bits\n",
    "\n",
    "def flip_bit(bits, index):\n",
    "    \"\"\"指定したビット（1～7）を反転\"\"\"\n",
    "    b = list(bits)\n",
    "    b[index - 1] = '1' if b[index - 1] == '0' else '0'\n",
    "    return ''.join(b)\n",
    "\n",
    "# ==== デモ開始 ====\n",
    "# 4ビットデータを用意\n",
    "data = '1011'\n",
    "print(\"元データ（4ビット）     :\", data)\n",
    "\n",
    "# 符号化\n",
    "encoded = encode_hamming_7_4(data)\n",
    "print(\"エンコード（7ビット）   :\", encoded)\n",
    "\n",
    "# ランダムに1ビット誤りを加える\n",
    "error_index = random.randint(1, 7)\n",
    "corrupted = flip_bit(encoded, error_index)\n",
    "print(f\"{error_index}番目のビットを反転（誤り挿入）\")\n",
    "print(\"破損データ              :\", corrupted)\n",
    "\n",
    "# デコードと訂正\n",
    "corrected, pos, restored = decode_hamming_7_4(corrupted)\n",
    "print(\"訂正後データ            :\", corrected)\n",
    "print(\"復元された元データ      :\", restored)\n"
   ]
  }
 ],
 "metadata": {
  "kernelspec": {
   "display_name": "Python 3",
   "language": "python",
   "name": "python3"
  },
  "language_info": {
   "codemirror_mode": {
    "name": "ipython",
    "version": 3
   },
   "file_extension": ".py",
   "mimetype": "text/x-python",
   "name": "python",
   "nbconvert_exporter": "python",
   "pygments_lexer": "ipython3",
   "version": "3.12.10"
  }
 },
 "nbformat": 4,
 "nbformat_minor": 5
}
