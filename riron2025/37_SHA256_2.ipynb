{
 "cells": [
  {
   "cell_type": "code",
   "execution_count": null,
   "id": "0ab7ca8f",
   "metadata": {},
   "outputs": [],
   "source": [
    "import hashlib\n",
    "\n",
    "def sha256_hash(text):\n",
    "    return hashlib.sha256(text.encode('utf-8')).hexdigest()\n",
    "\n",
    "texts = [\n",
    "    \"hello world\",\n",
    "    \"hello worle\",\n",
    "    \"hello world!\",\n",
    "    \"Hello world\",\n",
    "    \"hello  world\",\n",
    "    \"hello_world\",\n",
    "    \"hello-world\",\n",
    "    \"hello world \",\n",
    "    \"hello  world!\",\n",
    "    \"hello wor1d\"\n",
    "]\n",
    "\n",
    "for text in texts:\n",
    "    print(f\"文字列: {text}\")\n",
    "    print(f\"SHA-256: {sha256_hash(text)}\\n\")\n"
   ]
  }
 ],
 "metadata": {
  "language_info": {
   "name": "python"
  }
 },
 "nbformat": 4,
 "nbformat_minor": 5
}
