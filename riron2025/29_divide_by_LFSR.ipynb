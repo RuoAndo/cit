{
 "cells": [
  {
   "cell_type": "code",
   "execution_count": 1,
   "id": "45c57873",
   "metadata": {},
   "outputs": [
    {
     "name": "stdout",
     "output_type": "stream",
     "text": [
      "剰余ビット列: [0, 1, 1, 0]\n"
     ]
    }
   ],
   "source": [
    "def lfsr_modulo(dividend_bits, generator_bits, reg_length):\n",
    "    \"\"\"\n",
    "    LFSR構造で GF(2) 多項式除算を模倣\n",
    "    - dividend_bits: 被除数（ビット列：例 [1, 0, 1, 1, 1, 0, 0, 1]）\n",
    "    - generator_bits: 除数（生成多項式）：最高位1から開始、例 [1, 0, 0, 1, 1] は x^4 + x + 1\n",
    "    - reg_length: 生成多項式の次数（例: x^4 + x + 1 → 4）\n",
    "\n",
    "    返り値: 剰余ビット列（長さ reg_length）\n",
    "    \"\"\"\n",
    "    reg = [0] * reg_length  # シフトレジスタ（初期化）\n",
    "    for bit in dividend_bits:\n",
    "        feedback = bit ^ reg[0]\n",
    "        for i in range(reg_length - 1):\n",
    "            reg[i] = reg[i + 1] ^ (generator_bits[i + 1] if feedback else 0)\n",
    "        reg[-1] = feedback\n",
    "    return reg\n",
    "\n",
    "# 例：dividend = x^7 + x^6 + x^2 + 1 → 11000101\n",
    "#      divisor  = x^4 + x + 1         → 10011\n",
    "\n",
    "dividend_bits  = [1, 1, 0, 0, 0, 1, 0, 1]  # x^7 + x^6 + x^2 + 1\n",
    "generator_bits = [1, 0, 0, 1, 1]          # x^4 + x + 1\n",
    "reg_length = 4\n",
    "\n",
    "remainder = lfsr_modulo(dividend_bits, generator_bits, reg_length)\n",
    "print(f\"剰余ビット列: {remainder}\")\n"
   ]
  }
 ],
 "metadata": {
  "kernelspec": {
   "display_name": "Python 3",
   "language": "python",
   "name": "python3"
  },
  "language_info": {
   "codemirror_mode": {
    "name": "ipython",
    "version": 3
   },
   "file_extension": ".py",
   "mimetype": "text/x-python",
   "name": "python",
   "nbconvert_exporter": "python",
   "pygments_lexer": "ipython3",
   "version": "3.12.10"
  }
 },
 "nbformat": 4,
 "nbformat_minor": 5
}
