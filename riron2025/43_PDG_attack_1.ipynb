{
 "cells": [
  {
   "cell_type": "code",
   "execution_count": 1,
   "id": "476e0ed2",
   "metadata": {},
   "outputs": [
    {
     "name": "stdout",
     "output_type": "stream",
     "text": [
      "Downloading https://www.cs.toronto.edu/~kriz/cifar-10-python.tar.gz to ./data\\cifar-10-python.tar.gz\n"
     ]
    },
    {
     "name": "stderr",
     "output_type": "stream",
     "text": [
      "100%|██████████| 170M/170M [00:27<00:00, 6.30MB/s] \n"
     ]
    },
    {
     "name": "stdout",
     "output_type": "stream",
     "text": [
      "Extracting ./data\\cifar-10-python.tar.gz to ./data\n"
     ]
    },
    {
     "name": "stderr",
     "output_type": "stream",
     "text": [
      "C:\\Users\\flare\\AppData\\Local\\Packages\\PythonSoftwareFoundation.Python.3.12_qbz5n2kfra8p0\\LocalCache\\local-packages\\Python312\\site-packages\\torchvision\\models\\_utils.py:208: UserWarning: The parameter 'pretrained' is deprecated since 0.13 and may be removed in the future, please use 'weights' instead.\n",
      "  warnings.warn(\n",
      "C:\\Users\\flare\\AppData\\Local\\Packages\\PythonSoftwareFoundation.Python.3.12_qbz5n2kfra8p0\\LocalCache\\local-packages\\Python312\\site-packages\\torchvision\\models\\_utils.py:223: UserWarning: Arguments other than a weight enum or `None` for 'weights' are deprecated since 0.13 and may be removed in the future. The current behavior is equivalent to passing `weights=ResNet18_Weights.IMAGENET1K_V1`. You can also use `weights=ResNet18_Weights.DEFAULT` to get the most up-to-date weights.\n",
      "  warnings.warn(msg)\n",
      "Downloading: \"https://download.pytorch.org/models/resnet18-f37072fd.pth\" to C:\\Users\\flare/.cache\\torch\\hub\\checkpoints\\resnet18-f37072fd.pth\n",
      "100%|██████████| 44.7M/44.7M [00:06<00:00, 7.19MB/s]\n"
     ]
    },
    {
     "name": "stdout",
     "output_type": "stream",
     "text": [
      "元画像の予測ラベル： 906\n",
      "攻撃画像の予測ラベル： 680\n"
     ]
    }
   ],
   "source": [
    "import torch\n",
    "import torch.nn as nn\n",
    "import torch.nn.functional as F\n",
    "import torchvision\n",
    "import torchvision.transforms as transforms\n",
    "from torchvision.models import resnet18\n",
    "import copy\n",
    "\n",
    "# --- GPU利用設定 ---\n",
    "device = torch.device(\"cuda\" if torch.cuda.is_available() else \"cpu\")\n",
    "\n",
    "# --- CIFAR-10用のtransform ---\n",
    "transform = transforms.Compose([\n",
    "    transforms.Resize((224, 224)),  # ResNet用にサイズ変更\n",
    "    transforms.ToTensor()\n",
    "])\n",
    "\n",
    "# --- CIFAR-10のテストデータ ---\n",
    "testset = torchvision.datasets.CIFAR10(root='./data', train=False, download=True, transform=transform)\n",
    "testloader = torch.utils.data.DataLoader(testset, batch_size=1, shuffle=True)\n",
    "\n",
    "# --- ResNet18のロード（ImageNet事前学習済み） ---\n",
    "model = resnet18(pretrained=True).to(device)\n",
    "model.eval()\n",
    "\n",
    "# --- PGD攻撃関数 ---\n",
    "def pgd_attack(model, images, labels, eps=0.03, alpha=0.005, iters=10):\n",
    "    images = images.clone().detach().to(device)\n",
    "    ori_images = images.clone().detach()\n",
    "    labels = labels.to(device)\n",
    "\n",
    "    for i in range(iters):\n",
    "        images.requires_grad = True\n",
    "        outputs = model(images)\n",
    "        loss = F.cross_entropy(outputs, labels)\n",
    "        model.zero_grad()\n",
    "        loss.backward()\n",
    "        grad = images.grad.data\n",
    "\n",
    "        adv_images = images + alpha * grad.sign()\n",
    "        eta = torch.clamp(adv_images - ori_images, min=-eps, max=eps)\n",
    "        images = torch.clamp(ori_images + eta, min=0, max=1).detach()\n",
    "\n",
    "    return images\n",
    "\n",
    "# --- 攻撃実行テスト ---\n",
    "data_iter = iter(testloader)\n",
    "images, labels = next(data_iter)\n",
    "\n",
    "# CIFAR-10は10クラスなので、ImageNetの1000クラスモデルに合わせるには以下のようにマッピング調整が必要ですが、\n",
    "# 今回はシンプルに「ラベルを無視して予測の変化だけ確認」でもOKです。\n",
    "\n",
    "images = images.to(device)\n",
    "outputs_clean = model(images)\n",
    "pred_clean = outputs_clean.argmax(dim=1)\n",
    "\n",
    "# 攻撃後画像\n",
    "adv_images = pgd_attack(model, images, labels, eps=0.03, alpha=0.005, iters=10)\n",
    "outputs_adv = model(adv_images)\n",
    "pred_adv = outputs_adv.argmax(dim=1)\n",
    "\n",
    "print(\"元画像の予測ラベル：\", pred_clean.item())\n",
    "print(\"攻撃画像の予測ラベル：\", pred_adv.item())\n"
   ]
  }
 ],
 "metadata": {
  "kernelspec": {
   "display_name": "Python 3",
   "language": "python",
   "name": "python3"
  },
  "language_info": {
   "codemirror_mode": {
    "name": "ipython",
    "version": 3
   },
   "file_extension": ".py",
   "mimetype": "text/x-python",
   "name": "python",
   "nbconvert_exporter": "python",
   "pygments_lexer": "ipython3",
   "version": "3.12.10"
  }
 },
 "nbformat": 4,
 "nbformat_minor": 5
}
