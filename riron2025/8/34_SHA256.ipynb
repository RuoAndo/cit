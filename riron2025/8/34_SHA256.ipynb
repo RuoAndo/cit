{
 "cells": [
  {
   "cell_type": "code",
   "execution_count": 3,
   "id": "f3c6a469",
   "metadata": {},
   "outputs": [
    {
     "data": {
      "image/svg+xml": [
       "<svg xmlns=\"http://www.w3.org/2000/svg\" xmlns:xlink=\"http://www.w3.org/1999/xlink\" width=\"596pt\" height=\"62pt\" viewBox=\"0.00 0.00 595.84 61.74\">\n",
       "<g id=\"graph0\" class=\"graph\" transform=\"scale(1 1) rotate(0) translate(4 57.74)\">\n",
       "<polygon fill=\"white\" stroke=\"transparent\" points=\"-4,4 -4,-57.74 591.84,-57.74 591.84,4 -4,4\"/>\n",
       "<!-- b0 -->\n",
       "<g id=\"node1\" class=\"node\">\n",
       "<title>b0</title>\n",
       "<polygon fill=\"lightgray\" stroke=\"black\" points=\"362.33,-45.87 228.33,-45.87 228.33,-7.87 362.33,-7.87 362.33,-45.87\"/>\n",
       "<text text-anchor=\"middle\" x=\"295.33\" y=\"-30.67\" font-family=\"Times New Roman,serif\" font-size=\"14.00\">Block 1</text>\n",
       "<text text-anchor=\"middle\" x=\"295.33\" y=\"-15.67\" font-family=\"Times New Roman,serif\" font-size=\"14.00\">e38193e38293e381...</text>\n",
       "</g>\n",
       "<!-- h1 -->\n",
       "<g id=\"node3\" class=\"node\">\n",
       "<title>h1</title>\n",
       "<ellipse fill=\"lightblue\" stroke=\"black\" cx=\"493.09\" cy=\"-26.87\" rx=\"94.51\" ry=\"26.74\"/>\n",
       "<text text-anchor=\"middle\" x=\"493.09\" y=\"-30.67\" font-family=\"Times New Roman,serif\" font-size=\"14.00\">H1</text>\n",
       "<text text-anchor=\"middle\" x=\"493.09\" y=\"-15.67\" font-family=\"Times New Roman,serif\" font-size=\"14.00\">40e221587b83481f...</text>\n",
       "</g>\n",
       "<!-- b0&#45;&gt;h1 -->\n",
       "<g id=\"edge2\" class=\"edge\">\n",
       "<title>b0-&gt;h1</title>\n",
       "<path fill=\"none\" stroke=\"black\" d=\"M362.61,-26.87C370.82,-26.87 379.36,-26.87 387.97,-26.87\"/>\n",
       "<polygon fill=\"black\" stroke=\"black\" points=\"388.09,-30.37 398.09,-26.87 388.09,-23.37 388.09,-30.37\"/>\n",
       "</g>\n",
       "<!-- h0 -->\n",
       "<g id=\"node2\" class=\"node\">\n",
       "<title>h0</title>\n",
       "<ellipse fill=\"lightblue\" stroke=\"black\" cx=\"96.17\" cy=\"-26.87\" rx=\"96.33\" ry=\"26.74\"/>\n",
       "<text text-anchor=\"middle\" x=\"96.17\" y=\"-30.67\" font-family=\"Times New Roman,serif\" font-size=\"14.00\">H0</text>\n",
       "<text text-anchor=\"middle\" x=\"96.17\" y=\"-15.67\" font-family=\"Times New Roman,serif\" font-size=\"14.00\">0000000000000000...</text>\n",
       "</g>\n",
       "<!-- h0&#45;&gt;b0 -->\n",
       "<g id=\"edge1\" class=\"edge\">\n",
       "<title>h0-&gt;b0</title>\n",
       "<path fill=\"none\" stroke=\"black\" d=\"M192.57,-26.87C201.17,-26.87 209.8,-26.87 218.19,-26.87\"/>\n",
       "<polygon fill=\"black\" stroke=\"black\" points=\"218.31,-30.37 228.31,-26.87 218.31,-23.37 218.31,-30.37\"/>\n",
       "</g>\n",
       "</g>\n",
       "</svg>"
      ],
      "text/plain": [
       "<IPython.core.display.SVG object>"
      ]
     },
     "metadata": {},
     "output_type": "display_data"
    }
   ],
   "source": [
    "import hashlib\n",
    "from graphviz import Digraph\n",
    "from IPython.display import display, SVG\n",
    "\n",
    "# メッセージとブロック処理用定数\n",
    "text = \"こんにちは、世界\"\n",
    "BLOCK_SIZE = 64  # SHA-256のブロックサイズ（512ビット）\n",
    "\n",
    "def pad(message_bytes):\n",
    "    \"\"\"SHA-256風のパディング\"\"\"\n",
    "    l = len(message_bytes)\n",
    "    message_bytes += b'\\x80'  # 1ビット追加\n",
    "    while (len(message_bytes) + 8) % BLOCK_SIZE != 0:\n",
    "        message_bytes += b'\\x00'\n",
    "    message_bytes += (l * 8).to_bytes(8, byteorder='big')  # 元の長さ（ビット）を追加\n",
    "    return message_bytes\n",
    "\n",
    "def compression_function(h, block):\n",
    "    \"\"\"SHA-256風の圧縮関数（簡易版）\"\"\"\n",
    "    return hashlib.sha256(h + block).digest()\n",
    "\n",
    "# 1. メッセージをエンコードしてパディング\n",
    "message_bytes = pad(text.encode('utf-8'))\n",
    "initial_state = b'\\x00' * 32  # 初期ハッシュ値（IV）\n",
    "\n",
    "# 2. ブロック分割と中間ハッシュ計算\n",
    "states = [initial_state]\n",
    "blocks = []\n",
    "\n",
    "for i in range(0, len(message_bytes), BLOCK_SIZE):\n",
    "    block = message_bytes[i:i+BLOCK_SIZE]\n",
    "    blocks.append(block)\n",
    "    h = compression_function(states[-1], block)\n",
    "    states.append(h)\n",
    "\n",
    "# 3. Graphvizで可視化\n",
    "dot = Digraph(format='svg')\n",
    "dot.attr(rankdir='LR')\n",
    "\n",
    "for i in range(len(blocks)):\n",
    "    block_label = f\"Block {i+1}\\n{blocks[i].hex()[:16]}...\"\n",
    "    state_label = f\"H{i}\\n{states[i].hex()[:16]}...\"\n",
    "    next_state_label = f\"H{i+1}\\n{states[i+1].hex()[:16]}...\"\n",
    "\n",
    "    dot.node(f\"b{i}\", block_label, shape='box', style='filled', fillcolor='lightgray')\n",
    "    dot.node(f\"h{i}\", state_label, shape='ellipse', style='filled', fillcolor='lightblue')\n",
    "    dot.node(f\"h{i+1}\", next_state_label, shape='ellipse', style='filled', fillcolor='lightblue')\n",
    "\n",
    "    dot.edge(f\"h{i}\", f\"b{i}\")\n",
    "    dot.edge(f\"b{i}\", f\"h{i+1}\")\n",
    "\n",
    "# 4. 表示（Jupyter上でSVGとして）\n",
    "display(SVG(dot.pipe(format='svg')))\n"
   ]
  }
 ],
 "metadata": {
  "kernelspec": {
   "display_name": "Python 3",
   "language": "python",
   "name": "python3"
  },
  "language_info": {
   "codemirror_mode": {
    "name": "ipython",
    "version": 3
   },
   "file_extension": ".py",
   "mimetype": "text/x-python",
   "name": "python",
   "nbconvert_exporter": "python",
   "pygments_lexer": "ipython3",
   "version": "3.12.10"
  }
 },
 "nbformat": 4,
 "nbformat_minor": 5
}
