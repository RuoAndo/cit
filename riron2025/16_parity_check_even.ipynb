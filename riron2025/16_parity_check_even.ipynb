{
 "cells": [
  {
   "cell_type": "code",
   "execution_count": 1,
   "id": "bd086b98",
   "metadata": {},
   "outputs": [
    {
     "name": "stdout",
     "output_type": "stream",
     "text": [
      "元データ:            1011001\n",
      "パリティ付きデータ:  10110010\n",
      "誤りなし検査結果:    OK\n",
      "破損データ:          10100010\n",
      "誤りあり検査結果:    誤り検出\n"
     ]
    }
   ],
   "source": [
    "def add_even_parity(data_bits: str) -> str:\n",
    "    \"\"\"偶数パリティビットを追加\"\"\"\n",
    "    count_ones = data_bits.count('1')\n",
    "    parity_bit = '0' if count_ones % 2 == 0 else '1'\n",
    "    return data_bits + parity_bit\n",
    "\n",
    "def check_even_parity(received_bits: str) -> bool:\n",
    "    \"\"\"受信データに偶数パリティが保たれているか確認\"\"\"\n",
    "    count_ones = received_bits.count('1')\n",
    "    return count_ones % 2 == 0\n",
    "\n",
    "def flip_bit(bits: str, index: int) -> str:\n",
    "    \"\"\"指定位置のビットを反転（0→1, 1→0）\"\"\"\n",
    "    flipped = '1' if bits[index] == '0' else '0'\n",
    "    return bits[:index] + flipped + bits[index+1:]\n",
    "\n",
    "# 元データ\n",
    "original_data = '1011001'\n",
    "print(\"元データ:           \", original_data)\n",
    "\n",
    "# パリティ追加\n",
    "encoded = add_even_parity(original_data)\n",
    "print(\"パリティ付きデータ: \", encoded)\n",
    "\n",
    "# 誤りなしの検査\n",
    "print(\"誤りなし検査結果:   \", \"OK\" if check_even_parity(encoded) else \"誤り検出\")\n",
    "\n",
    "# ビットを1つ反転（誤りをシミュレート）\n",
    "corrupted = flip_bit(encoded, 3)\n",
    "print(\"破損データ:         \", corrupted)\n",
    "print(\"誤りあり検査結果:   \", \"OK\" if check_even_parity(corrupted) else \"誤り検出\")\n"
   ]
  }
 ],
 "metadata": {
  "kernelspec": {
   "display_name": "Python 3",
   "language": "python",
   "name": "python3"
  },
  "language_info": {
   "codemirror_mode": {
    "name": "ipython",
    "version": 3
   },
   "file_extension": ".py",
   "mimetype": "text/x-python",
   "name": "python",
   "nbconvert_exporter": "python",
   "pygments_lexer": "ipython3",
   "version": "3.12.10"
  }
 },
 "nbformat": 4,
 "nbformat_minor": 5
}
