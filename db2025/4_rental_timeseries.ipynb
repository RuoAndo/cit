{
 "cells": [
  {
   "cell_type": "code",
   "execution_count": null,
   "id": "e16501cc",
   "metadata": {},
   "outputs": [],
   "source": [
    "import pandas as pd\n",
    "import matplotlib.pyplot as plt\n",
    "\n",
    "rental_csv = \"csv_exports/rental.csv\"  # 変更可\n",
    "\n",
    "df = pd.read_csv(rental_csv, parse_dates=[\"rental_date\"])\n",
    "df[\"date\"] = df[\"rental_date\"].dt.date\n",
    "daily = df.groupby(\"date\").size().rename(\"rentals\").to_frame()\n",
    "daily.index = pd.to_datetime(daily.index)\n",
    "\n",
    "# 曜日列（0=Mon, 6=Sun）\n",
    "daily[\"weekday\"] = daily.index.weekday\n",
    "\n",
    "# 曜日別平均（例：金・土・日が高いか？）\n",
    "weekday_avg = daily.groupby(\"weekday\")[\"rentals\"].mean()\n",
    "\n",
    "# 可視化：曜日別平均（0=Mon ... 6=Sun）\n",
    "plt.figure(figsize=(8, 5))\n",
    "plt.bar(weekday_avg.index.astype(str), weekday_avg.values)\n",
    "plt.title(\"Average Rentals by Weekday (0=Mon ... 6=Sun)\")\n",
    "plt.xlabel(\"Weekday\")\n",
    "plt.ylabel(\"Average Count\")\n",
    "plt.tight_layout()\n",
    "plt.show()\n",
    "\n",
    "# 結果をCSV保存（任意）\n",
    "weekday_avg.to_csv(\"weekday_avg_rentals.csv\", header=[\"avg_rentals\"])\n",
    "print(\"Saved: weekday_avg_rentals.csv\")\n",
    "\n",
    "# 参考：月次も見たい場合\n",
    "monthly = daily[\"rentals\"].resample(\"MS\").sum()\n",
    "monthly.to_csv(\"monthly_rentals.csv\", header=[\"rentals\"])\n",
    "print(\"Saved: monthly_rentals.csv\")\n"
   ]
  }
 ],
 "metadata": {
  "language_info": {
   "name": "python"
  }
 },
 "nbformat": 4,
 "nbformat_minor": 5
}
