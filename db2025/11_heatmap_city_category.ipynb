{
 "cells": [
  {
   "cell_type": "code",
   "execution_count": null,
   "id": "cfc63a4a",
   "metadata": {},
   "outputs": [],
   "source": [
    "import pandas as pd\n",
    "import matplotlib.pyplot as plt\n",
    "\n",
    "def plot_city_category_heatmap(csv_path=\"city_category_counts.csv\",\n",
    "                               title=\"都市×カテゴリ：レンタル件数（ヒートマップ）\",\n",
    "                               figsize=(12, 8)):\n",
    "    # CSV読み込み\n",
    "    df = pd.read_csv(csv_path, index_col=0)\n",
    "\n",
    "    # 描画\n",
    "    fig, ax = plt.subplots(figsize=figsize)\n",
    "    im = ax.imshow(df.values, aspect=\"auto\", cmap=\"YlGnBu\")\n",
    "\n",
    "    # 軸ラベル設定\n",
    "    ax.set_xticks(range(df.shape[1]))\n",
    "    ax.set_yticks(range(df.shape[0]))\n",
    "    ax.set_xticklabels(df.columns, rotation=45, ha=\"right\")\n",
    "    ax.set_yticklabels(df.index)\n",
    "\n",
    "    ax.set_xlabel(\"カテゴリ\")\n",
    "    ax.set_ylabel(\"都市\")\n",
    "    ax.set_title(title)\n",
    "\n",
    "    # カラーバー\n",
    "    cbar = plt.colorbar(im, ax=ax, fraction=0.02, pad=0.04)\n",
    "    cbar.set_label(\"レンタル件数\")\n",
    "\n",
    "    plt.tight_layout()\n",
    "    plt.show()\n",
    "\n",
    "if __name__ == \"__main__\":\n",
    "    plot_city_category_heatmap(\"city_category_counts.csv\")\n"
   ]
  }
 ],
 "metadata": {
  "language_info": {
   "name": "python"
  }
 },
 "nbformat": 4,
 "nbformat_minor": 5
}
