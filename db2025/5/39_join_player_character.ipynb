{
 "cells": [
  {
   "cell_type": "code",
   "execution_count": 4,
   "id": "6ff37bf7",
   "metadata": {},
   "outputs": [
    {
     "name": "stdout",
     "output_type": "stream",
     "text": [
      "=== 接続DB名 ===\n",
      "cit-db-2025-game.db\n",
      "\n",
      "キャラID | キャラ名 | プレイヤー名 | 体力 | 魔力 | 経験値\n",
      "------------------------------------------------------------\n",
      "0 | akinator | BBUos DnIeQ | 58 | 75 | 22\n",
      "1 | bikkuriko | KjgBv yxCUV | 31 | 73 | 46\n",
      "2 | doraemon | BBUos DnIeQ | 61 | 20 | 85\n",
      "3 | doraemon | cYeiJ tcJab | 17 | 41 | 14\n",
      "4 | doraemon | KjgBv yxCUV | 35 | 17 | 32\n",
      "5 | doraemon | htcAj TpUve | 83 | 14 | 3\n",
      "6 | akinator | mfsyN VluRB | 46 | 46 | 29\n",
      "7 | doraemon | njvut XECGK | 17 | 58 | 96\n",
      "8 | doraemon | KjgBv yxCUV | 71 | 21 | 59\n",
      "9 | doraemon | VWYMh OlYlW | 71 | 100 | 16\n"
     ]
    }
   ],
   "source": [
    "import sqlite3\n",
    "\n",
    "DB_NAME = 'cit-db-2025-game.db'\n",
    "conn = sqlite3.connect(DB_NAME)\n",
    "cur = conn.cursor()\n",
    "\n",
    "# DB名表示\n",
    "print(\"=== 接続DB名 ===\")\n",
    "print(DB_NAME)\n",
    "print()\n",
    "\n",
    "# JOINクエリ\n",
    "cur.execute(\"\"\"\n",
    "SELECT\n",
    "    c.character_id AS キャラID,\n",
    "    c.character_name AS キャラ名,\n",
    "    p.fname || ' ' || p.lname AS プレイヤー名,\n",
    "    c.HP AS 体力,\n",
    "    c.MP AS 魔力,\n",
    "    c.EXP AS 経験値\n",
    "FROM character AS c\n",
    "JOIN player AS p\n",
    "ON c.player_id = p.player_id\n",
    "LIMIT 10;\n",
    "\"\"\")\n",
    "\n",
    "# 日本語のヘッダーを表示\n",
    "headers = [desc[0] for desc in cur.description]\n",
    "print(\" | \".join(headers))\n",
    "print(\"-\" * 60)\n",
    "\n",
    "# データ表示\n",
    "for row in cur.fetchall():\n",
    "    print(\" | \".join(map(str, row)))\n",
    "\n",
    "cur.close()\n",
    "conn.close()\n"
   ]
  }
 ],
 "metadata": {
  "kernelspec": {
   "display_name": "Python 3",
   "language": "python",
   "name": "python3"
  },
  "language_info": {
   "codemirror_mode": {
    "name": "ipython",
    "version": 3
   },
   "file_extension": ".py",
   "mimetype": "text/x-python",
   "name": "python",
   "nbconvert_exporter": "python",
   "pygments_lexer": "ipython3",
   "version": "3.12.10"
  }
 },
 "nbformat": 4,
 "nbformat_minor": 5
}
