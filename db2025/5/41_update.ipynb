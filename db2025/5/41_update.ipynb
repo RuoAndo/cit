{
 "cells": [
  {
   "cell_type": "code",
   "execution_count": null,
   "id": "c86de8b3",
   "metadata": {},
   "outputs": [
    {
     "name": "stdout",
     "output_type": "stream",
     "text": [
      "Matplotlib backend: TkAgg\n"
     ]
    },
    {
     "ename": "",
     "evalue": "",
     "output_type": "error",
     "traceback": [
      "\u001b[1;31m現在のセルまたは前のセルでコードを実行中に、カーネル (Kernel) がクラッシュしました。\n",
      "\u001b[1;31mエラーの原因を特定するには、セル内のコードを確認してください。\n",
      "\u001b[1;31m詳細については<a href='https://aka.ms/vscodeJupyterKernelCrash'>こちら</a>をクリックします。\n",
      "\u001b[1;31m詳細については、Jupyter <a href='command:jupyter.viewOutput'>ログ</a> を参照してください。"
     ]
    }
   ],
   "source": [
    "#!/usr/bin/env python\n",
    "# -*- coding: utf-8 -*-\n",
    "\n",
    "%matplotlib inline\n",
    "\n",
    "import os, sys, sqlite3, numpy as np\n",
    "\n",
    "# 重要: Aggは使わない（表示したいので）\n",
    "# バックエンドを可能ならTkAggへ（失敗したら既定のまま）\n",
    "try:\n",
    "    import matplotlib\n",
    "#    matplotlib.use(\"TkAgg\")  # ここでGUIバックエンド指定\n",
    "except Exception:\n",
    "    pass\n",
    "\n",
    "import matplotlib.pyplot as plt\n",
    "from mpl_toolkits.mplot3d import Axes3D  # noqa: F401\n",
    "\n",
    "DB_NAME = \"cit-db-2025-game.db\"\n",
    "PNG = \"after_update_scatter.png\"\n",
    "\n",
    "def update_roles(conn):\n",
    "    cur = conn.cursor()\n",
    "    # 役割の偏り（必要なければコメントアウト可）\n",
    "    cur.execute(\"\"\"UPDATE \"character\"\n",
    "                   SET MP = MP + 30, EXP = EXP + 10\n",
    "                   WHERE character_name='doraemon';\"\"\")\n",
    "    cur.execute(\"\"\"UPDATE \"character\"\n",
    "                   SET HP = HP + 40\n",
    "                   WHERE character_name='bikkuriko';\"\"\")\n",
    "    conn.commit()\n",
    "\n",
    "def fetch_stats(conn):\n",
    "    cur = conn.cursor()\n",
    "    cur.execute('SELECT HP, MP, EXP FROM \"character\";')\n",
    "    rows = cur.fetchall()\n",
    "    if not rows:\n",
    "        print(\"データが空です。\", file=sys.stderr)\n",
    "        sys.exit(1)\n",
    "    return np.array(rows, dtype=float)\n",
    "\n",
    "def try_open_file(path):\n",
    "    try:\n",
    "        if sys.platform.startswith(\"win\"):\n",
    "            os.startfile(path)  # type: ignore[attr-defined]\n",
    "        elif sys.platform == \"darwin\":\n",
    "            import subprocess; subprocess.run([\"open\", path], check=False)\n",
    "        else:\n",
    "            import subprocess; subprocess.run([\"xdg-open\", path], check=False)\n",
    "    except Exception:\n",
    "        pass\n",
    "\n",
    "def main():\n",
    "    print(\"Matplotlib backend:\", plt.get_backend())\n",
    "\n",
    "    conn = sqlite3.connect(DB_NAME)\n",
    "    update_roles(conn)\n",
    "    stats = fetch_stats(conn)\n",
    "\n",
    "    fig = plt.figure()\n",
    "    ax = fig.add_subplot(111, projection=\"3d\")\n",
    "    ax.scatter(stats[:,0], stats[:,1], stats[:,2], s=40, marker=\"o\")\n",
    "    ax.set_xlabel(\"HP\"); ax.set_ylabel(\"MP\"); ax.set_zlabel(\"EXP\")\n",
    "    ax.set_title(\"After Update: Character Stats 3D Plot\")\n",
    "    fig.tight_layout()\n",
    "\n",
    "    # まず表示を試みる\n",
    "    try:\n",
    "        plt.show()  # ここで出なければ exceptへ\n",
    "        return\n",
    "    except Exception as e:\n",
    "        print(f\"plt.show() に失敗: {e}\\nPNGに保存して開きます。\")\n",
    "\n",
    "    # 表示できない環境向けフォールバック\n",
    "    fig.savefig(PNG, dpi=150)\n",
    "    print(f\"保存しました → {PNG}\")\n",
    "    try_open_file(PNG)\n",
    "\n",
    "if __name__ == \"__main__\":\n",
    "    main()\n"
   ]
  }
 ],
 "metadata": {
  "kernelspec": {
   "display_name": "Python 3",
   "language": "python",
   "name": "python3"
  },
  "language_info": {
   "codemirror_mode": {
    "name": "ipython",
    "version": 3
   },
   "file_extension": ".py",
   "mimetype": "text/x-python",
   "name": "python",
   "nbconvert_exporter": "python",
   "pygments_lexer": "ipython3",
   "version": "3.12.10"
  }
 },
 "nbformat": 4,
 "nbformat_minor": 5
}
