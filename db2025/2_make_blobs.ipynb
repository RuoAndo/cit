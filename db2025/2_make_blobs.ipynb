{
 "cells": [
  {
   "cell_type": "code",
   "execution_count": 1,
   "id": "bcdc8daf",
   "metadata": {},
   "outputs": [
    {
     "name": "stdout",
     "output_type": "stream",
     "text": [
      "CSVに保存しました。\n"
     ]
    }
   ],
   "source": [
    "import pandas as pd\n",
    "from sklearn.datasets import make_blobs\n",
    "\n",
    "# データ生成\n",
    "X, y = make_blobs(n_samples=300, centers=3, n_features=2, cluster_std=0.8, random_state=42)\n",
    "\n",
    "# DataFrameに変換\n",
    "df = pd.DataFrame(X, columns=[\"feature1\", \"feature2\"])\n",
    "df[\"label\"] = y  # クラスタラベルを追加\n",
    "\n",
    "# CSVに保存\n",
    "df.to_csv(\"blobs.csv\", index=False)\n",
    "\n",
    "print(\"CSVに保存しました。\")\n"
   ]
  }
 ],
 "metadata": {
  "kernelspec": {
   "display_name": "Python 3",
   "language": "python",
   "name": "python3"
  },
  "language_info": {
   "codemirror_mode": {
    "name": "ipython",
    "version": 3
   },
   "file_extension": ".py",
   "mimetype": "text/x-python",
   "name": "python",
   "nbconvert_exporter": "python",
   "pygments_lexer": "ipython3",
   "version": "3.12.10"
  }
 },
 "nbformat": 4,
 "nbformat_minor": 5
}
