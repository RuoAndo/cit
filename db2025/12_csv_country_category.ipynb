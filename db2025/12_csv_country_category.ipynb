{
 "cells": [
  {
   "cell_type": "code",
   "execution_count": 2,
   "id": "2c2d623f",
   "metadata": {},
   "outputs": [
    {
     "name": "stdout",
     "output_type": "stream",
     "text": [
      "出力: country_category_counts.csv\n"
     ]
    },
    {
     "name": "stderr",
     "output_type": "stream",
     "text": [
      "C:\\Users\\flare\\AppData\\Local\\Temp\\ipykernel_26320\\375473170.py:19: UserWarning: Could not infer format, so each element will be parsed individually, falling back to `dateutil`. To ensure parsing is consistent and as-expected, please specify a format.\n",
      "  rent  = pd.read_csv(RENT_CSV, usecols=[\"rental_id\",\"inventory_id\",\"customer_id\"], parse_dates=[\"rental_id\"], dayfirst=False)  # rental_idは数値列でもOK\n"
     ]
    }
   ],
   "source": [
    "import pandas as pd\n",
    "\n",
    "# === 入力パス ===\n",
    "CAT_CSV      = \"csv_exports/category.csv\"\n",
    "FC_CSV       = \"csv_exports/film_category.csv\"\n",
    "FILM_CSV     = \"csv_exports/film.csv\"\n",
    "INV_CSV      = \"csv_exports/inventory.csv\"\n",
    "RENT_CSV     = \"csv_exports/rental.csv\"\n",
    "CUS_CSV      = \"csv_exports/customer.csv\"\n",
    "ADDR_CSV     = \"csv_exports/address.csv\"\n",
    "CITY_CSV     = \"csv_exports/city.csv\"\n",
    "COUNTRY_CSV  = \"csv_exports/country.csv\"\n",
    "\n",
    "def make_country_category_counts():\n",
    "    # 必要列だけ読む（last_update等は読まない）\n",
    "    cat   = pd.read_csv(CAT_CSV, usecols=[\"category_id\",\"name\"])\n",
    "    fc    = pd.read_csv(FC_CSV,  usecols=[\"film_id\",\"category_id\"])\n",
    "    inv   = pd.read_csv(INV_CSV, usecols=[\"inventory_id\",\"film_id\"])\n",
    "    rent  = pd.read_csv(RENT_CSV, usecols=[\"rental_id\",\"inventory_id\",\"customer_id\"], parse_dates=[\"rental_id\"], dayfirst=False)  # rental_idは数値列でもOK\n",
    "    # ↑ parse_datesは不要なら削除してOK（安全のため残しても害はありません）\n",
    "\n",
    "    cus   = pd.read_csv(CUS_CSV,  usecols=[\"customer_id\",\"address_id\"])\n",
    "    addr  = pd.read_csv(ADDR_CSV, usecols=[\"address_id\",\"city_id\"])\n",
    "    city  = pd.read_csv(CITY_CSV, usecols=[\"city_id\",\"country_id\",\"city\"])\n",
    "    country = pd.read_csv(COUNTRY_CSV, usecols=[\"country_id\",\"country\"])\n",
    "\n",
    "    # 顧客→住所→都市→国（必要列のみ）\n",
    "    cus_country = (cus.merge(addr,  on=\"address_id\", how=\"left\")\n",
    "                       .merge(city, on=\"city_id\",   how=\"left\")\n",
    "                       .merge(country, on=\"country_id\", how=\"left\"))\n",
    "    # rental -> customer -> country\n",
    "    r_cus = rent.merge(cus_country[[\"customer_id\",\"country\"]], on=\"customer_id\", how=\"left\")\n",
    "\n",
    "    # rental -> inventory -> film -> film_category -> category名\n",
    "    df = (r_cus.merge(inv, on=\"inventory_id\", how=\"left\")\n",
    "              .merge(fc,  on=\"film_id\",      how=\"left\")\n",
    "              .merge(cat, on=\"category_id\",  how=\"left\"))\n",
    "\n",
    "    # ピボット（件数）\n",
    "    pt = pd.pivot_table(df, index=\"country\", columns=\"name\",\n",
    "                        values=\"rental_id\", aggfunc=\"count\", fill_value=0)\n",
    "\n",
    "    # 国名・カテゴリ名の昇順で整形（任意）\n",
    "    pt = pt.sort_index().sort_index(axis=1)\n",
    "    return pt\n",
    "\n",
    "if __name__ == \"__main__\":\n",
    "    pt_country = make_country_category_counts()\n",
    "    out_csv = \"country_category_counts.csv\"\n",
    "    pt_country.to_csv(out_csv, encoding=\"utf-8-sig\")\n",
    "    print(f\"出力: {out_csv}\")\n"
   ]
  }
 ],
 "metadata": {
  "kernelspec": {
   "display_name": "Python 3",
   "language": "python",
   "name": "python3"
  },
  "language_info": {
   "codemirror_mode": {
    "name": "ipython",
    "version": 3
   },
   "file_extension": ".py",
   "mimetype": "text/x-python",
   "name": "python",
   "nbconvert_exporter": "python",
   "pygments_lexer": "ipython3",
   "version": "3.12.10"
  }
 },
 "nbformat": 4,
 "nbformat_minor": 5
}
