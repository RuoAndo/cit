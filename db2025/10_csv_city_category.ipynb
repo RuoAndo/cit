{
 "cells": [
  {
   "cell_type": "code",
   "execution_count": 1,
   "id": "e1e93441",
   "metadata": {},
   "outputs": [
    {
     "name": "stdout",
     "output_type": "stream",
     "text": [
      "都市×カテゴリの件数ピボット（先頭5行）:\n",
      "name                Action  Animation  Children  Classics  Comedy  \\\n",
      "city                                                                \n",
      "A Corua (La Corua)       1          0         3         3       4   \n",
      "Abha                     1          5         1         0       1   \n",
      "Abu Dhabi                4          1         3         0       0   \n",
      "Acua                     2          0         3         1       2   \n",
      "Adana                    3          1         3         0       3   \n",
      "\n",
      "name                Documentary  Drama  Family  Foreign  Games  Horror  Music  \\\n",
      "city                                                                            \n",
      "A Corua (La Corua)            4      2       1        2      2       2      1   \n",
      "Abha                          0      0       0        0      2       3      2   \n",
      "Abu Dhabi                     1      4       3        2      2       1      1   \n",
      "Acua                          2      3       3        2      2       1      1   \n",
      "Adana                         4      3       1        0      0       2      2   \n",
      "\n",
      "name                New  Sci-Fi  Sports  Travel  \n",
      "city                                             \n",
      "A Corua (La Corua)    1       1       1       1  \n",
      "Abha                  0       5       3       1  \n",
      "Abu Dhabi             3       4       2       1  \n",
      "Acua                  0       2       2       0  \n",
      "Adana                 2       0       1       1   \n",
      "\n",
      "CSVファイルに出力しました: city_category_counts.csv\n"
     ]
    }
   ],
   "source": [
    "import pandas as pd\n",
    "\n",
    "# ====== CSVのパス ======\n",
    "CAT_CSV   = \"csv_exports/category.csv\"\n",
    "FC_CSV    = \"csv_exports/film_category.csv\"\n",
    "FILM_CSV  = \"csv_exports/film.csv\"\n",
    "INV_CSV   = \"csv_exports/inventory.csv\"\n",
    "RENT_CSV  = \"csv_exports/rental.csv\"\n",
    "CUS_CSV   = \"csv_exports/customer.csv\"\n",
    "ADDR_CSV  = \"csv_exports/address.csv\"\n",
    "CITY_CSV  = \"csv_exports/city.csv\"\n",
    "\n",
    "# ====== 都市×カテゴリの件数集計 ======\n",
    "def make_city_category_counts():\n",
    "    cat   = pd.read_csv(CAT_CSV)\n",
    "    fc    = pd.read_csv(FC_CSV)\n",
    "    film  = pd.read_csv(FILM_CSV)\n",
    "    inv   = pd.read_csv(INV_CSV)\n",
    "    rent  = pd.read_csv(RENT_CSV, parse_dates=[\"rental_date\"])\n",
    "    cus   = pd.read_csv(CUS_CSV)\n",
    "    addr  = pd.read_csv(ADDR_CSV)\n",
    "    city  = pd.read_csv(CITY_CSV)\n",
    "\n",
    "    # 顧客→住所→都市\n",
    "    cus_city = cus.merge(addr, on=\"address_id\", how=\"left\") \\\n",
    "                  .merge(city, on=\"city_id\", how=\"left\")\n",
    "\n",
    "    # rental -> customer -> city\n",
    "    r_cus = rent.merge(cus_city[[\"customer_id\",\"city\"]], on=\"customer_id\", how=\"left\")\n",
    "\n",
    "    # rental -> inventory(→film) -> film_category -> category\n",
    "    df = (r_cus.merge(inv[[\"inventory_id\",\"film_id\"]], on=\"inventory_id\", how=\"left\")\n",
    "                 .merge(fc, on=\"film_id\", how=\"left\")\n",
    "                 .merge(cat, on=\"category_id\", how=\"left\"))\n",
    "\n",
    "    # ピボット（件数）\n",
    "    pt = pd.pivot_table(df, index=\"city\", columns=\"name\",\n",
    "                        values=\"rental_id\", aggfunc=\"count\", fill_value=0)\n",
    "\n",
    "    return pt\n",
    "\n",
    "if __name__ == \"__main__\":\n",
    "    pt_city = make_city_category_counts()\n",
    "    print(\"都市×カテゴリの件数ピボット（先頭5行）:\")\n",
    "    print(pt_city.head(), \"\\n\")\n",
    "\n",
    "    # CSVに保存\n",
    "    out_csv = \"city_category_counts.csv\"\n",
    "    pt_city.to_csv(out_csv, encoding=\"utf-8-sig\")\n",
    "    print(f\"CSVファイルに出力しました: {out_csv}\")\n"
   ]
  }
 ],
 "metadata": {
  "kernelspec": {
   "display_name": "Python 3",
   "language": "python",
   "name": "python3"
  },
  "language_info": {
   "codemirror_mode": {
    "name": "ipython",
    "version": 3
   },
   "file_extension": ".py",
   "mimetype": "text/x-python",
   "name": "python",
   "nbconvert_exporter": "python",
   "pygments_lexer": "ipython3",
   "version": "3.12.10"
  }
 },
 "nbformat": 4,
 "nbformat_minor": 5
}
