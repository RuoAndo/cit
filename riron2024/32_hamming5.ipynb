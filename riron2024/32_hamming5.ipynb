{
 "cells": [
  {
   "cell_type": "code",
   "execution_count": 2,
   "metadata": {
    "scrolled": true
   },
   "outputs": [
    {
     "name": "stdout",
     "output_type": "stream",
     "text": [
      "[[0, 0, 0, 0], [0, 0, 0, 1], [0, 0, 1, 0], [0, 0, 1, 1], [0, 1, 0, 0], [0, 1, 0, 1], [0, 1, 1, 0], [0, 1, 1, 1], [1, 0, 0, 0], [1, 0, 0, 1], [1, 0, 1, 0], [1, 0, 1, 1], [1, 1, 0, 0], [1, 1, 0, 1], [1, 1, 1, 0], [1, 1, 1, 1]]\n",
      "[[0, 0, 0, 0, 0, 0, 0], [0, 0, 0, 1, 1, 1, 1], [0, 0, 1, 0, 1, 1, 0], [0, 0, 1, 1, 0, 0, 1], [0, 1, 0, 0, 1, 0, 1], [0, 1, 0, 1, 0, 1, 0], [0, 1, 1, 0, 0, 1, 1], [0, 1, 1, 1, 1, 0, 0], [1, 0, 0, 0, 0, 1, 1], [1, 0, 0, 1, 1, 0, 0], [1, 0, 1, 0, 1, 0, 1], [1, 0, 1, 1, 0, 1, 0], [1, 1, 0, 0, 1, 1, 0], [1, 1, 0, 1, 0, 0, 1], [1, 1, 1, 0, 0, 0, 0], [1, 1, 1, 1, 1, 1, 1]]\n",
      "\n",
      "3番目のベクトル([0, 0, 1, 0, 1, 1, 0])を送信符号語に選択\n",
      "[0, 0, 1, 0, 1, 1, 0]\n",
      "\n",
      "xビット目に誤りを生成\n",
      "[0, 0, 1, 0, 1, 0, 0]\n",
      "\n",
      "計算結果\n",
      "[0 1 1]\n",
      "\n",
      "誤りベクトル、シンドローム\n",
      "[0,0,0,0,0,0,0] [0,0,0]\n",
      "[1,0,0,0,0,0,0] [1,0,0]\n",
      "[0,1,0,0,0,0,0] [0,1,0]\n",
      "[0,0,1,0,0,0,0] [1,1,0]\n",
      "[0,0,0,1,0,0,0] [0,0,1]\n",
      "[0,0,0,0,1,0,0] [1,0,1]\n",
      "[0,0,0,0,0,1,0] [0,1,1]\n",
      "[0,0,0,0,0,0,1] [1,1,1]\n",
      "\n",
      "送信符号語\n",
      "[0, 0, 1, 0, 1, 0, 0]\n"
     ]
    },
    {
     "data": {
      "image/png": "[encoded data removed]",
      "text/plain": [
       "<Figure size 432x288 with 1 Axes>"
      ]
     },
     "metadata": {
      "needs_background": "light"
     },
     "output_type": "display_data"
    },
    {
     "name": "stdout",
     "output_type": "stream",
     "text": [
      "\n",
      "シンドローム\n",
      "[0 1 1]\n"
     ]
    },
    {
     "data": {
      "image/png": "[encoded data removed]",
      "text/plain": [
       "<Figure size 432x288 with 1 Axes>"
      ]
     },
     "metadata": {
      "needs_background": "light"
     },
     "output_type": "display_data"
    }
   ],
   "source": [
    "import numpy as np\n",
    "import matplotlib.pyplot as plt\n",
    "\n",
    "G = np.array([\n",
    "        [1, 0, 0, 0, 0, 1, 1],\n",
    "        [0, 1, 0, 0, 1, 0, 1],\n",
    "        [0, 0, 1, 0, 1, 1, 0],\n",
    "        [0, 0, 0, 1, 1, 1, 1]\n",
    "    ])\n",
    "\n",
    "H = np.array([\n",
    "        [1, 0, 1, 0, 1, 0, 1],\n",
    "        [0, 1, 1, 0, 0, 1, 1],\n",
    "        [0, 0, 0, 1, 1, 1, 1]\n",
    "        ])\n",
    "\n",
    "N = np.arange(0,16)\n",
    "\n",
    "R = []\n",
    "for i in N:\n",
    "    tmp = ('{:04b}'.format(i))\n",
    "    tmp2 = list(tmp)\n",
    "    for j in range(len(tmp2)):\n",
    "        tmp2[j] = int(tmp2[j])\n",
    "    R.append(list(tmp2))\n",
    "\n",
    "print(R)\n",
    "\n",
    "R2 = []\n",
    "for i in R:\n",
    "    tmp = np.array(i)\n",
    "    tmp2 = np.dot(tmp,G)%2\n",
    "    R2.append(list(tmp2))\n",
    "    \n",
    "print(R2)\n",
    "print(\"\")\n",
    "\n",
    "print(\"3番目のベクトル([0, 0, 1, 0, 1, 1, 0])を送信符号語に選択\")\n",
    "print(R2[2:3][0])\n",
    "\n",
    "import random\n",
    "x = random.randint(0,6)\n",
    "\n",
    "print(\"\")\n",
    "print(\"xビット目に誤りを生成\")\n",
    "if R2[2:3][0][x] == 0:\n",
    "    (R2[2:3][0][x]) = 1 \n",
    "else:\n",
    "    (R2[2:3][0][x]) = 0\n",
    "    \n",
    "print(R2[2:3][0])\n",
    " \n",
    "tmp2 = np.dot(R2[2:3][0],H.transpose())%2\n",
    "\n",
    "print(\"\")\n",
    "print(\"計算結果\")\n",
    "print(tmp2)\n",
    "\n",
    "print(\"\")    \n",
    "print(\"誤りベクトル、シンドローム\")\n",
    "print(\"[0,0,0,0,0,0,0] [0,0,0]\")\n",
    "print(\"[1,0,0,0,0,0,0] [1,0,0]\")\n",
    "print(\"[0,1,0,0,0,0,0] [0,1,0]\")\n",
    "print(\"[0,0,1,0,0,0,0] [1,1,0]\")\n",
    "print(\"[0,0,0,1,0,0,0] [0,0,1]\")\n",
    "print(\"[0,0,0,0,1,0,0] [1,0,1]\")\n",
    "print(\"[0,0,0,0,0,1,0] [0,1,1]\")\n",
    "print(\"[0,0,0,0,0,0,1] [1,1,1]\")\n",
    "    \n",
    "print(\"\")\n",
    "print(\"送信符号語\")\n",
    "\n",
    "tmp4 = []\n",
    "for i in R2[2:3][0]:\n",
    "    tmp4.append(i*255)   \n",
    "print(R2[2:3][0])\n",
    "img_gray = np.array([tmp4], dtype = np.uint8)\n",
    "plt.imshow(img_gray, cmap = 'gray', vmin = 0, vmax = 128, interpolation = 'none', aspect=0.5)\n",
    "plt.show()\n",
    "\n",
    "print(\"\")\n",
    "print(\"シンドローム\")\n",
    "\n",
    "tmp3 = []\n",
    "for i in tmp2:\n",
    "    tmp3.append(i*255)   \n",
    "print(tmp2)\n",
    "\n",
    "img_gray = np.array([tmp3], dtype = np.uint8)\n",
    "plt.imshow(img_gray, cmap = 'gray', vmin = 0, vmax = 128, interpolation = 'none', aspect=0.25)\n",
    "plt.show()\n",
    "\n"
   ]
  }
 ],
 "metadata": {
  "kernelspec": {
   "display_name": "Python 3",
   "language": "python",
   "name": "python3"
  },
  "language_info": {
   "codemirror_mode": {
    "name": "ipython",
    "version": 3
   },
   "file_extension": ".py",
   "mimetype": "text/x-python",
   "name": "python",
   "nbconvert_exporter": "python",
   "pygments_lexer": "ipython3",
   "version": "3.8.5"
  }
 },
 "nbformat": 4,
 "nbformat_minor": 4
}
