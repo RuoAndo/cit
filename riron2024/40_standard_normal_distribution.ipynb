{
 "cells": [
  {
   "cell_type": "code",
   "execution_count": 1,
   "metadata": {},
   "outputs": [],
   "source": [
    "import numpy as np\n",
    "import random as rng\n",
    "\n",
    "from matplotlib import pyplot as plt"
   ]
  },
  {
   "cell_type": "code",
   "execution_count": 18,
   "metadata": {},
   "outputs": [],
   "source": [
    "def standard_normal_distribution(x):\n",
    "    return (1/np.sqrt(2*np.pi))*np.exp(-x**2/2)*1000"
   ]
  },
  {
   "cell_type": "code",
   "execution_count": 19,
   "metadata": {},
   "outputs": [],
   "source": [
    "a = np.random.randn(100000)"
   ]
  },
  {
   "cell_type": "code",
   "execution_count": 20,
   "metadata": {},
   "outputs": [],
   "source": [
    "x = np.linspace(-5, 5, 1000)"
   ]
  },
  {
   "cell_type": "code",
   "execution_count": 21,
   "metadata": {},
   "outputs": [
    {
     "data": {
      "text/plain": [
       "(array([  1.,   0.,   0.,   0.,   0.,   0.,   0.,   0.,   0.,   0.,   0.,\n",
       "          0.,   0.,   0.,   0.,   0.,   0.,   0.,   0.,   0.,   0.,   0.,\n",
       "          0.,   1.,   0.,   0.,   0.,   0.,   0.,   0.,   0.,   0.,   0.,\n",
       "          0.,   0.,   0.,   0.,   1.,   0.,   0.,   0.,   0.,   0.,   0.,\n",
       "          0.,   0.,   0.,   0.,   0.,   0.,   0.,   0.,   0.,   0.,   0.,\n",
       "          0.,   0.,   0.,   0.,   0.,   1.,   1.,   0.,   0.,   0.,   0.,\n",
       "          0.,   0.,   0.,   0.,   0.,   0.,   0.,   0.,   0.,   1.,   0.,\n",
       "          0.,   0.,   0.,   0.,   0.,   0.,   0.,   0.,   0.,   0.,   0.,\n",
       "          1.,   0.,   0.,   0.,   0.,   0.,   0.,   0.,   1.,   0.,   0.,\n",
       "          0.,   0.,   0.,   1.,   0.,   0.,   1.,   0.,   1.,   0.,   0.,\n",
       "          0.,   0.,   0.,   1.,   0.,   1.,   0.,   0.,   1.,   0.,   0.,\n",
       "          1.,   1.,   1.,   2.,   0.,   0.,   0.,   0.,   0.,   0.,   1.,\n",
       "          1.,   0.,   1.,   0.,   0.,   0.,   1.,   0.,   1.,   0.,   0.,\n",
       "          0.,   0.,   0.,   1.,   1.,   2.,   0.,   1.,   2.,   2.,   2.,\n",
       "          1.,   1.,   2.,   1.,   3.,   2.,   2.,   1.,   2.,   0.,   1.,\n",
       "          0.,   0.,   4.,   2.,   0.,   4.,   2.,   2.,   3.,   0.,   1.,\n",
       "          4.,   2.,   2.,   1.,   6.,   1.,   3.,   6.,   5.,   4.,   2.,\n",
       "          1.,   2.,   1.,   1.,   3.,   3.,   2.,   3.,   6.,   1.,   6.,\n",
       "          3.,   6.,   3.,   5.,   3.,   2.,   5.,   2.,   6.,   2.,   7.,\n",
       "          5.,   4.,   3.,   5.,   9.,  11.,   9.,   5.,   4.,   7.,   5.,\n",
       "          9.,  10.,   7.,   8.,   5.,   9.,   5.,   4.,  11.,   4.,  13.,\n",
       "          6.,   9.,  14.,   9.,  12.,   7.,  14.,  13.,   6.,  15.,  13.,\n",
       "         11.,  14.,  10.,  17.,  19.,  15.,  12.,  13.,  23.,  27.,  18.,\n",
       "         12.,  15.,   9.,  15.,  23.,  16.,  15.,  25.,  18.,  20.,  17.,\n",
       "         16.,  13.,  26.,  28.,  22.,  23.,  28.,  17.,  28.,  22.,  34.,\n",
       "         26.,  28.,  26.,  31.,  35.,  31.,  30.,  31.,  31.,  38.,  31.,\n",
       "         30.,  32.,  36.,  34.,  37.,  42.,  38.,  32.,  43.,  44.,  52.,\n",
       "         38.,  46.,  45.,  41.,  30.,  52.,  54.,  57.,  56.,  51.,  53.,\n",
       "         50.,  57.,  54.,  47.,  60.,  55.,  67.,  55.,  62.,  63.,  57.,\n",
       "         59.,  63.,  55.,  65.,  73.,  72.,  84.,  66.,  66.,  83.,  70.,\n",
       "         77.,  70.,  83.,  85.,  78.,  79.,  94.,  89.,  80.,  99.,  94.,\n",
       "         89., 102.,  87.,  94., 102., 112.,  86., 105., 113., 136.,  95.,\n",
       "         94., 135., 129., 118., 133., 115., 155., 110., 126., 108., 138.,\n",
       "        137., 146., 148., 119., 140., 157., 126., 137., 138., 148., 120.,\n",
       "        144., 151., 149., 171., 168., 149., 171., 192., 166., 159., 178.,\n",
       "        194., 158., 169., 175., 153., 179., 183., 155., 191., 153., 180.,\n",
       "        198., 205., 177., 208., 186., 197., 197., 204., 210., 244., 206.,\n",
       "        233., 226., 213., 223., 209., 231., 236., 246., 234., 233., 231.,\n",
       "        244., 261., 220., 261., 268., 253., 249., 258., 278., 267., 271.,\n",
       "        272., 270., 257., 259., 284., 295., 260., 269., 289., 298., 284.,\n",
       "        278., 296., 282., 309., 293., 256., 280., 310., 309., 311., 299.,\n",
       "        334., 299., 321., 329., 310., 338., 323., 306., 305., 331., 338.,\n",
       "        305., 327., 347., 318., 361., 355., 344., 357., 343., 341., 372.,\n",
       "        374., 329., 376., 352., 347., 378., 344., 315., 350., 381., 376.,\n",
       "        371., 349., 377., 377., 364., 349., 380., 370., 368., 359., 376.,\n",
       "        366., 361., 356., 375., 359., 365., 344., 360., 372., 390., 373.,\n",
       "        345., 366., 398., 380., 359., 373., 373., 380., 387., 353., 420.,\n",
       "        368., 389., 412., 370., 382., 384., 390., 387., 389., 373., 403.,\n",
       "        400., 406., 353., 367., 381., 360., 363., 395., 381., 370., 372.,\n",
       "        335., 360., 425., 336., 340., 371., 364., 381., 407., 332., 330.,\n",
       "        325., 358., 353., 327., 347., 373., 363., 350., 392., 355., 336.,\n",
       "        370., 338., 335., 339., 350., 332., 358., 340., 348., 317., 357.,\n",
       "        321., 313., 311., 320., 321., 310., 312., 294., 301., 329., 297.,\n",
       "        308., 324., 282., 297., 321., 285., 259., 292., 295., 323., 267.,\n",
       "        291., 281., 263., 266., 296., 298., 284., 273., 264., 282., 321.,\n",
       "        263., 296., 261., 271., 270., 258., 260., 262., 243., 257., 243.,\n",
       "        231., 257., 240., 259., 229., 254., 230., 237., 214., 238., 234.,\n",
       "        193., 237., 213., 198., 226., 187., 192., 231., 199., 215., 210.,\n",
       "        195., 172., 178., 173., 202., 191., 204., 175., 177., 155., 171.,\n",
       "        170., 188., 181., 162., 157., 163., 161., 145., 136., 162., 149.,\n",
       "        168., 166., 146., 148., 149., 140., 135., 144., 139., 141., 146.,\n",
       "        128., 127., 114., 131., 112., 145., 120., 120., 122., 127., 119.,\n",
       "        122., 128., 123., 112.,  95., 100., 103., 108.,  99.,  96., 104.,\n",
       "         87., 100.,  88.,  82.,  81., 103.,  88.,  82.,  66.,  89.,  87.,\n",
       "         84.,  66.,  76.,  82.,  84.,  74.,  56.,  67.,  84.,  65.,  65.,\n",
       "         65.,  58.,  67.,  64.,  64.,  75.,  52.,  41.,  51.,  59.,  59.,\n",
       "         57.,  52.,  42.,  40.,  58.,  28.,  51.,  53.,  49.,  35.,  36.,\n",
       "         41.,  48.,  31.,  48.,  42.,  36.,  26.,  32.,  36.,  38.,  40.,\n",
       "         38.,  36.,  41.,  35.,  36.,  26.,  32.,  29.,  27.,  24.,  27.,\n",
       "         31.,  28.,  42.,  24.,  29.,  23.,  16.,  24.,  16.,  20.,  27.,\n",
       "         24.,  20.,  28.,  23.,  22.,  17.,  17.,  23.,  15.,  11.,  15.,\n",
       "         21.,  17.,  18.,  13.,  18.,  10.,   9.,  14.,   7.,  12.,  18.,\n",
       "         16.,  14.,   9.,  19.,  14.,  13.,   9.,  10.,  14.,  11.,  10.,\n",
       "          8.,  16.,  11.,  10.,   4.,   7.,   7.,   8.,  11.,   5.,   8.,\n",
       "          5.,   4.,   5.,   7.,   7.,   4.,   2.,  11.,   5.,   4.,   7.,\n",
       "          4.,   3.,   6.,   6.,   1.,   3.,   9.,   3.,   6.,   7.,   6.,\n",
       "          4.,   1.,   2.,   4.,   1.,   3.,   7.,   5.,   1.,   2.,   1.,\n",
       "          2.,   4.,   3.,   1.,   1.,   3.,   2.,   3.,   2.,   2.,   3.,\n",
       "          1.,   3.,   2.,   2.,   2.,   0.,   2.,   0.,   0.,   3.,   0.,\n",
       "          1.,   1.,   1.,   1.,   0.,   2.,   2.,   0.,   1.,   0.,   0.,\n",
       "          3.,   2.,   3.,   1.,   4.,   0.,   1.,   1.,   0.,   2.,   0.,\n",
       "          2.,   0.,   0.,   0.,   0.,   0.,   1.,   0.,   0.,   2.,   1.,\n",
       "          0.,   1.,   0.,   0.,   1.,   2.,   0.,   2.,   0.,   0.,   0.,\n",
       "          1.,   0.,   0.,   1.,   1.,   0.,   1.,   0.,   1.,   0.,   0.,\n",
       "          0.,   0.,   0.,   0.,   0.,   0.,   0.,   0.,   0.,   0.,   0.,\n",
       "          0.,   0.,   1.,   0.,   0.,   0.,   1.,   0.,   0.,   0.,   0.,\n",
       "          0.,   0.,   0.,   0.,   0.,   0.,   0.,   1.,   0.,   0.,   0.,\n",
       "          0.,   0.,   0.,   0.,   0.,   0.,   0.,   0.,   0.,   0.,   0.,\n",
       "          0.,   0.,   0.,   0.,   0.,   0.,   0.,   0.,   0.,   0.,   0.,\n",
       "          0.,   0.,   0.,   0.,   0.,   0.,   0.,   0.,   1.,   0.,   0.,\n",
       "          0.,   0.,   0.,   0.,   0.,   1.,   0.,   0.,   0.,   1.]),\n",
       " array([-4.92263459, -4.91313872, -4.90364286, ...,  4.55423886,\n",
       "         4.56373473,  4.57323059]),\n",
       " <BarContainer object of 1000 artists>)"
      ]
     },
     "execution_count": 21,
     "metadata": {},
     "output_type": "execute_result"
    },
    {
     "data": {
      "image/png": "[encoded data removed]",
      "text/plain": [
       "<Figure size 432x288 with 1 Axes>"
      ]
     },
     "metadata": {
      "needs_background": "light"
     },
     "output_type": "display_data"
    }
   ],
   "source": [
    "plt.hist(a,bins=1000)"
   ]
  },
  {
   "cell_type": "code",
   "execution_count": 22,
   "metadata": {},
   "outputs": [
    {
     "data": {
      "text/plain": [
       "[<matplotlib.lines.Line2D at 0x1e4dfb7d460>]"
      ]
     },
     "execution_count": 22,
     "metadata": {},
     "output_type": "execute_result"
    },
    {
     "data": {
      "image/png": "[encoded data removed]",
      "text/plain": [
       "<Figure size 432x288 with 1 Axes>"
      ]
     },
     "metadata": {
      "needs_background": "light"
     },
     "output_type": "display_data"
    }
   ],
   "source": [
    "plt.plot(x,standard_normal_distribution(x))"
   ]
  },
  {
   "cell_type": "code",
   "execution_count": 23,
   "metadata": {},
   "outputs": [
    {
     "data": {
      "text/plain": [
       "[<matplotlib.lines.Line2D at 0x1e4dfbacc40>]"
      ]
     },
     "execution_count": 23,
     "metadata": {},
     "output_type": "execute_result"
    },
    {
     "data": {
      "image/png": "[encoded data removed]",
      "text/plain": [
       "<Figure size 432x288 with 1 Axes>"
      ]
     },
     "metadata": {
      "needs_background": "light"
     },
     "output_type": "display_data"
    }
   ],
   "source": [
    "plt.plot(a)"
   ]
  }
 ],
 "metadata": {
  "kernelspec": {
   "display_name": "Python 3",
   "language": "python",
   "name": "python3"
  },
  "language_info": {
   "codemirror_mode": {
    "name": "ipython",
    "version": 3
   },
   "file_extension": ".py",
   "mimetype": "text/x-python",
   "name": "python",
   "nbconvert_exporter": "python",
   "pygments_lexer": "ipython3",
   "version": "3.8.5"
  }
 },
 "nbformat": 4,
 "nbformat_minor": 4
}
