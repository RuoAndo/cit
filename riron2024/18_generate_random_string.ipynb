{
 "cells": [
  {
   "cell_type": "markdown",
   "metadata": {},
   "source": [
    "ランダム文字列の生成"
   ]
  },
  {
   "cell_type": "code",
   "execution_count": 3,
   "metadata": {},
   "outputs": [
    {
     "name": "stdout",
     "output_type": "stream",
     "text": [
      "RRKBSNIAKTFQVZRPSBCZSHXIQRYVTDURMARKCWIYBJDNVUSWQSJHEHGGSCOCIQXKJFGXTBIWFTOCGGWEPELVAXQVJWWYPXEBMWOBANHMRNYUTVGQTFQNCHHXQXLJYAJTGKLAWFORDGLMVKDHXPHIDLGTOBSPJHBFIQWFKXOXSSDIGBVTBJAQKYBEAODGDNCTCQRAVKEX\n"
     ]
    }
   ],
   "source": [
    "import random\n",
    "\n",
    "target_str = \"\"\n",
    "for i in range(200):\n",
    "    x = random.randint(65,90)\n",
    "    target_str = target_str + chr(x)\n",
    " \n",
    "print(target_str)"
   ]
  }
 ],
 "metadata": {
  "kernelspec": {
   "display_name": "Python 3",
   "language": "python",
   "name": "python3"
  },
  "language_info": {
   "codemirror_mode": {
    "name": "ipython",
    "version": 3
   },
   "file_extension": ".py",
   "mimetype": "text/x-python",
   "name": "python",
   "nbconvert_exporter": "python",
   "pygments_lexer": "ipython3",
   "version": "3.8.5"
  }
 },
 "nbformat": 4,
 "nbformat_minor": 4
}
