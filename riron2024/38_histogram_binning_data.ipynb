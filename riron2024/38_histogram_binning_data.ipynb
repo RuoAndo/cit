{
 "cells": [
  {
   "cell_type": "code",
   "execution_count": 1,
   "metadata": {},
   "outputs": [],
   "source": [
    "import numpy as np\n",
    "\n",
    "rng = np.random.default_rng(seed=1701)\n",
    "x = rng.normal(size=100)\n",
    "\n",
    "# compute a histogram by hand\n",
    "bins = np.linspace(-5, 5, 20)\n",
    "counts = np.zeros_like(bins)\n",
    "\n",
    "# find the appropriate bin for each x\n",
    "i = np.searchsorted(bins, x)\n",
    "\n",
    "# add 1 to each of these bins\n",
    "np.add.at(counts, i, 1)"
   ]
  },
  {
   "cell_type": "code",
   "execution_count": 3,
   "metadata": {},
   "outputs": [
    {
     "name": "stdout",
     "output_type": "stream",
     "text": [
      "[ 0.43874206  0.32818515  0.68328838 -0.81928256  0.69156442 -1.62453268\n",
      "  1.50806312 -1.22449846  1.22696072 -1.05013046  0.62509363  0.09693023\n",
      "  0.62776415 -0.28565182  1.49678665 -0.76768541 -0.3942867  -1.35693505\n",
      "  0.33524959  0.57442768  1.62016911  0.33395176 -1.02906713 -0.94266623\n",
      "  0.38365532  0.25423793  1.36108696  1.25474959 -0.05637126  0.44880896\n",
      " -1.47909513  2.40254455 -0.06959272 -1.52752832  1.93633419 -1.28006351\n",
      " -0.71562065  0.72455605  0.47362789 -0.33131697  0.26272942  1.75038031\n",
      "  0.01834221 -1.43899931  1.3716487   0.67679557  0.53793618  1.53399445\n",
      "  0.28214872  0.56313954 -0.37793941 -1.15832253  0.96594187 -0.35611958\n",
      " -1.28536874  0.19742658  0.41682623 -0.95386364  0.75830441 -2.08596882\n",
      " -1.16203473  0.34232684 -1.11888193 -1.13596     0.6742499   1.26767704\n",
      "  0.65873509 -0.64003051  3.09160717  0.51595829  0.61122253 -0.01723733\n",
      "  0.3037547   0.48345155  1.31693828  0.11558915 -1.71886929 -0.98511272\n",
      "  0.42671049  0.54159558 -1.40923638 -0.38289913 -0.36361407  0.51818448\n",
      "  0.98517332 -0.28010458  0.48822092  1.18871415  2.35468027 -0.50254828\n",
      "  0.72586398  0.82359641  0.12582911 -0.96702245  0.16762368 -0.25626375\n",
      " -0.77984442  0.73111879 -0.90911587  2.5795842 ]\n"
     ]
    }
   ],
   "source": [
    "print(x)"
   ]
  },
  {
   "cell_type": "code",
   "execution_count": 2,
   "metadata": {},
   "outputs": [
    {
     "data": {
      "image/png": "[encoded data removed]",
      "text/plain": [
       "<Figure size 432x288 with 1 Axes>"
      ]
     },
     "metadata": {
      "needs_background": "light"
     },
     "output_type": "display_data"
    }
   ],
   "source": [
    "import matplotlib.pyplot as plt\n",
    "\n",
    "# plot the results\n",
    "plt.plot(bins, counts, drawstyle='steps');\n"
   ]
  }
 ],
 "metadata": {
  "kernelspec": {
   "display_name": "Python 3",
   "language": "python",
   "name": "python3"
  },
  "language_info": {
   "codemirror_mode": {
    "name": "ipython",
    "version": 3
   },
   "file_extension": ".py",
   "mimetype": "text/x-python",
   "name": "python",
   "nbconvert_exporter": "python",
   "pygments_lexer": "ipython3",
   "version": "3.8.5"
  }
 },
 "nbformat": 4,
 "nbformat_minor": 4
}
