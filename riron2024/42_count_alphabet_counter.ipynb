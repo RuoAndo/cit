{
 "cells": [
  {
   "cell_type": "code",
   "execution_count": 3,
   "metadata": {},
   "outputs": [
    {
     "name": "stdout",
     "output_type": "stream",
     "text": [
      "R: 9\n",
      "K: 9\n",
      "B: 11\n",
      "S: 9\n",
      "N: 6\n",
      "I: 8\n",
      "A: 9\n",
      "T: 10\n",
      "F: 7\n",
      "Q: 11\n",
      "V: 9\n",
      "Z: 2\n",
      "P: 5\n",
      "C: 8\n",
      "H: 9\n",
      "X: 11\n",
      "Y: 6\n",
      "D: 8\n",
      "U: 3\n",
      "M: 4\n",
      "W: 9\n",
      "J: 8\n",
      "E: 6\n",
      "G: 11\n",
      "O: 7\n",
      "L: 5\n"
     ]
    }
   ],
   "source": [
    "from collections import Counter\n",
    "\n",
    "# 文字列の定義\n",
    "string = \"RRKBSNIAKTFQVZRPSBCZSHXIQRYVTDURMARKCWIYBJDNVUSWQSJHEHGGSCOCIQXKJFGXTBIWFTOCGGWEPELVAXQVJWWYPXEBMWOBANHMRNYUTVGQTFQNCHHXQXLJYAJTGKLAWFORDGLMVKDHXPHIDLGTOBSPJHBFIQWFKXOXSSDIGBVTBJAQKYBEAODGDNCTCQRAVKEX\"\n",
    "\n",
    "# 各文字の出現頻度をカウント\n",
    "counter = Counter(string)\n",
    "\n",
    "# 結果を表示\n",
    "for char, count in counter.items():\n",
    "    print(f\"{char}: {count}\")"
   ]
  },
  {
   "cell_type": "code",
   "execution_count": null,
   "metadata": {},
   "outputs": [],
   "source": []
  }
 ],
 "metadata": {
  "kernelspec": {
   "display_name": "Python 3",
   "language": "python",
   "name": "python3"
  },
  "language_info": {
   "codemirror_mode": {
    "name": "ipython",
    "version": 3
   },
   "file_extension": ".py",
   "mimetype": "text/x-python",
   "name": "python",
   "nbconvert_exporter": "python",
   "pygments_lexer": "ipython3",
   "version": "3.8.5"
  }
 },
 "nbformat": 4,
 "nbformat_minor": 4
}
