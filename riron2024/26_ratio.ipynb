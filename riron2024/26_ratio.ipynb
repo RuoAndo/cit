{
 "cells": [
  {
   "cell_type": "markdown",
   "metadata": {},
   "source": [
    "# 課題9-3 各文字の正規確率を求める\n",
    "\n",
    "<pre>\n",
    "文字列\"ABBCACCEACBCCFABCDAFEABFFADBBC\"の各文字の生起確率を計算しなさい\n",
    "</pre>\n"
   ]
  },
  {
   "cell_type": "code",
   "execution_count": 11,
   "metadata": {},
   "outputs": [
    {
     "name": "stdout",
     "output_type": "stream",
     "text": [
      "圧縮対象文字列:ABBCACCEACBCCFABCDAFEABFFADBBC\n",
      "各文字の出現頻度\n",
      "A:7\n",
      "B:7\n",
      "C:8\n",
      "D:2\n",
      "E:2\n",
      "F:4\n",
      "\n",
      "30\n",
      "{'A': 7, 'B': 7, 'C': 8, 'D': 2, 'E': 2, 'F': 4}\n",
      "A:7:0.23333333333333334%\n",
      "B:7:0.23333333333333334%\n",
      "C:8:0.26666666666666666%\n",
      "D:2:0.06666666666666667%\n",
      "E:2:0.06666666666666667%\n",
      "F:4:0.13333333333333333%\n"
     ]
    }
   ],
   "source": [
    "target_str=\"ABBCACCEACBCCFABCDAFEABFFADBBC\"\n",
    "print(\"圧縮対象文字列:\" + target_str)\n",
    "\n",
    "wlist = list(target_str)\n",
    "\n",
    "print(\"各文字の出現頻度\")\n",
    "\n",
    "counter = 0\n",
    "\n",
    "P = {}\n",
    "\n",
    "for i in sorted(set(wlist)):\n",
    "    print(i+ \":\" + str(target_str.count(i)))\n",
    "    \n",
    "    P[i] = target_str.count(i)\n",
    "    counter = counter + target_str.count(i)\n",
    "\n",
    "print(\"\")\n",
    "print(counter)\n",
    "print(P)\n",
    "\n",
    "for k, v in P.items():\n",
    "    print(str(k) + \":\" + str(v) + \":\" + str(v/counter) + \"%\")\n",
    "\n",
    "\n"
   ]
  },
  {
   "cell_type": "code",
   "execution_count": null,
   "metadata": {},
   "outputs": [],
   "source": []
  }
 ],
 "metadata": {
  "kernelspec": {
   "display_name": "Python 3",
   "language": "python",
   "name": "python3"
  },
  "language_info": {
   "codemirror_mode": {
    "name": "ipython",
    "version": 3
   },
   "file_extension": ".py",
   "mimetype": "text/x-python",
   "name": "python",
   "nbconvert_exporter": "python",
   "pygments_lexer": "ipython3",
   "version": "3.8.5"
  }
 },
 "nbformat": 4,
 "nbformat_minor": 4
}
