{
 "cells": [
  {
   "cell_type": "code",
   "execution_count": 2,
   "metadata": {},
   "outputs": [
    {
     "name": "stdout",
     "output_type": "stream",
     "text": [
      "CTHCHHTTCHCCHTTCCTCTTCTHCTTTTTTTCCCTHCTTTHHTHCHHTTCHCCCTCCTTHTCCCHHCHTTHHCHCTCCTCHCCHTCCCCTHCHHTHHCHTTHCCHHHTCHCHCTHHHCHCCTCCCCTHHHCHTTCCTTTCTHTTCHCTCHTTHHTTHTHHCCCCCCTTTHTTCHCHCTCHTCHTHCTHCCTTCTHCCCTTHHHCHHHHCCHCHTHHTTHTHCHTHHHTHTHCHHTCHTCHHCCHHCTTCTHHTTHCHTCCCCCTHTCTHHCCHTTHHHTCTTHHCCCHTCHHTHCCCCTHTCHCTTHCCTCCCHTHCCHCCTHTCHHTCCTTCCTCHTCHHCCTHTHTTCCCHHHCCHTTCCHHHTHCHCCTHTCTHHCTCTCHCCTTTCTCCTCTCHH\n"
     ]
    }
   ],
   "source": [
    "import random\n",
    "\n",
    "# ランダムに選択する文字\n",
    "characters = ['C', 'H', 'T']\n",
    "\n",
    "# 出力する文字列の長さを指定\n",
    "length_of_string = 400\n",
    "\n",
    "# ランダムな文字列を生成\n",
    "random_string = ''.join(random.choice(characters) for _ in range(length_of_string))\n",
    "\n",
    "# 生成された文字列を出力\n",
    "print(random_string)"
   ]
  }
 ],
 "metadata": {
  "kernelspec": {
   "display_name": "Python 3",
   "language": "python",
   "name": "python3"
  },
  "language_info": {
   "codemirror_mode": {
    "name": "ipython",
    "version": 3
   },
   "file_extension": ".py",
   "mimetype": "text/x-python",
   "name": "python",
   "nbconvert_exporter": "python",
   "pygments_lexer": "ipython3",
   "version": "3.8.5"
  }
 },
 "nbformat": 4,
 "nbformat_minor": 4
}
