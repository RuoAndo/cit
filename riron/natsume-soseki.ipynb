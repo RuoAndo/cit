{
 "cells": [
  {
   "cell_type": "code",
   "execution_count": 9,
   "metadata": {},
   "outputs": [
    {
     "name": "stdout",
     "output_type": "stream",
     "text": [
      "書いただけの意味ではどこに吹き飛ばされた動物が、結婚問題をどこに吹き飛ばされて仕方がないため、潮の満干と同じ人間だという冗談のようであって要領を得ないくせに、必竟この菓子を私に対するお礼に何を措いても教えて上げるだけの手際ではありませんが）、および臨時の費用を金の問題をどこに価値をもって生れたままの時計を折々見ましたからであったらしい彼らは私に乃木さんは丈夫であって以来、申し訳のためでした。\n",
      "---\n",
      "始めのうちは珍しいところを東京まで来た時にです。\n",
      "---\n",
      "業務の都合からいえばどっちも真実であって心持よく話のできる限りこの不可思議な力は冷やかな頭で新しい事をこうも取りした語気で私を嫌っていられないほど不意でした。\n",
      "---\n"
     ]
    }
   ],
   "source": [
    "from janome.tokenizer import Tokenizer\n",
    "import os, re, json, random\n",
    "\n",
    "# マルコフ連鎖の辞書を作成 --- (※1)\n",
    "def make_dic(words):\n",
    "    tmp = [\"@\"]\n",
    "    dic = {}\n",
    "    for i in words:\n",
    "        word = i.surface\n",
    "        if word == \"\" or word == \"\\r\\n\" or word == \"\\n\": continue\n",
    "        tmp.append(word)\n",
    "        if len(tmp) < 3: continue\n",
    "        if len(tmp) > 3: tmp = tmp[1:]\n",
    "        set_word3(dic, tmp)\n",
    "        if word == \"。\":\n",
    "            tmp = [\"@\"]\n",
    "            continue\n",
    "    return dic\n",
    "\n",
    "# 三要素のリストを辞書として登録 --- (※2)\n",
    "def set_word3(dic, s3):\n",
    "    w1, w2, w3 = s3\n",
    "    if not w1 in dic: dic[w1] = {}\n",
    "    if not w2 in dic[w1]: dic[w1][w2] = {}\n",
    "    if not w3 in dic[w1][w2]: dic[w1][w2][w3] = 0\n",
    "    dic[w1][w2][w3] += 1\n",
    "\n",
    "# 作文する --- (※3)\n",
    "def make_sentence(dic):\n",
    "    ret = []\n",
    "    if not \"@\" in dic: return \"no dic\" \n",
    "    top = dic[\"@\"]\n",
    "    w1 = word_choice(top)\n",
    "    w2 = word_choice(top[w1])\n",
    "    ret.append(w1)\n",
    "    ret.append(w2)\n",
    "    while True:\n",
    "        w3 = word_choice(dic[w1][w2])\n",
    "        ret.append(w3)\n",
    "        if w3 == \"。\": break\n",
    "        w1, w2 = w2, w3\n",
    "    return \"\".join(ret)\n",
    "\n",
    "def word_choice(sel):\n",
    "    keys = sel.keys()\n",
    "    return random.choice(list(keys))\n",
    "\n",
    "# 文章を読み込む --- (※4)\n",
    "#sjis_file = \"kokoro.txt.sjis\"\n",
    "dict_file = \"markov-kokoro.json\"\n",
    "if not os.path.exists(dict_file):\n",
    "    # Shift_JISの青空文庫のテキストを読み込む\n",
    "    #sjis = open(sjis_file, 'rb').read()\n",
    "    #text = sjis.decode('shift_jis')\n",
    "    # 不要な部分を削除する\n",
    "    #text = re.split(r'\\-{5,}',text)[2] # ヘッダを削除\n",
    "    #text = re.split(r'底本：', text)[0] # フッタを削除\n",
    "    #text = text.strip()\n",
    "    #text = text.replace('｜', '') # ルビの開始記号を削除\n",
    "    #text = re.sub(r'《.+?》', '', text) # ルビを削除\n",
    "    #text = re.sub(r'［＃.+?］', '', text) # 入力注を削除\n",
    "    # janomeで形態素解析 --- (※5)\n",
    "    t = Tokenizer()\n",
    "    words = t.tokenize(text)\n",
    "    # 辞書を生成\n",
    "    dic = make_dic(words)\n",
    "    json.dump(dic, open(dict_file,\"w\", encoding=\"utf-8\"))\n",
    "else:\n",
    "    dic = json.load(open(dict_file,\"r\"))\n",
    "\n",
    "# 作文 --- (※6)\n",
    "for i in range(3):\n",
    "    s = make_sentence(dic)\n",
    "    print(s)\n",
    "    print(\"---\")\n",
    "    \n",
    "\n"
   ]
  },
  {
   "cell_type": "code",
   "execution_count": null,
   "metadata": {},
   "outputs": [],
   "source": []
  },
  {
   "cell_type": "code",
   "execution_count": null,
   "metadata": {},
   "outputs": [],
   "source": []
  },
  {
   "cell_type": "code",
   "execution_count": null,
   "metadata": {},
   "outputs": [],
   "source": []
  }
 ],
 "metadata": {
  "kernelspec": {
   "display_name": "Python 3",
   "language": "python",
   "name": "python3"
  },
  "language_info": {
   "codemirror_mode": {
    "name": "ipython",
    "version": 3
   },
   "file_extension": ".py",
   "mimetype": "text/x-python",
   "name": "python",
   "nbconvert_exporter": "python",
   "pygments_lexer": "ipython3",
   "version": "3.8.5"
  }
 },
 "nbformat": 4,
 "nbformat_minor": 4
}
