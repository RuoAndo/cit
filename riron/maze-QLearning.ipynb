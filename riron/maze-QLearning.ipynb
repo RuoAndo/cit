{
 "cells": [
  {
   "cell_type": "code",
   "execution_count": 15,
   "metadata": {
    "scrolled": true
   },
   "outputs": [
    {
     "data": {
      "image/png": "[encoded data removed]",
      "text/plain": [
       "<Figure size 360x360 with 1 Axes>"
      ]
     },
     "metadata": {
      "needs_background": "light"
     },
     "output_type": "display_data"
    }
   ],
   "source": [
    "import numpy as np\n",
    "import matplotlib.pyplot as plt\n",
    "%matplotlib inline\n",
    "\n",
    "fig = plt.figure(figsize=(5, 5))\n",
    "ax = plt.gca()\n",
    "\n",
    "plt.plot([1, 1], [0, 1], color='blue', linewidth=2)\n",
    "plt.plot([1, 2], [2, 2], color='blue', linewidth=2)\n",
    "plt.plot([2, 2], [2, 1], color='blue', linewidth=2)\n",
    "plt.plot([2, 3], [1, 1], color='blue', linewidth=2)\n",
    "\n",
    "plt.text(0.5, 2.5, 'State0', size=14, ha='center')\n",
    "plt.text(1.5, 2.5, 'State1', size=14, ha='center')\n",
    "plt.text(2.5, 2.5, 'State2', size=14, ha='center')\n",
    "plt.text(0.5, 1.5, 'State3', size=14, ha='center')\n",
    "plt.text(1.5, 1.5, 'State4', size=14, ha='center')\n",
    "plt.text(2.5, 1.5, 'State5', size=14, ha='center')\n",
    "plt.text(0.5, 0.5, 'State6', size=14, ha='center')\n",
    "plt.text(1.5, 0.5, 'State7', size=14, ha='center')\n",
    "plt.text(2.5, 0.5, 'State8', size=14, ha='center')\n",
    "plt.text(0.5, 2.3, 'Start', ha='center')\n",
    "plt.text(2.5, 0.3, 'Goal', ha='center')\n",
    "\n",
    "ax.set_xlim(0, 3)\n",
    "ax.set_ylim(0, 3)\n",
    "plt.tick_params(axis='both', which='both', bottom='off', top='off',\n",
    "                labelbottom='off', right='off', left='off', labelleft='off')\n",
    "\n",
    "line, = ax.plot([0.5], [2.5], marker=\"o\", color='g', markersize=60)"
   ]
  },
  {
   "cell_type": "code",
   "execution_count": 16,
   "metadata": {},
   "outputs": [],
   "source": [
    "theta_0 = np.array([[np.nan, 1, 1, np.nan],  # 0\n",
    "                    [np.nan, 1, np.nan, 1],  # 1\n",
    "                    [np.nan, np.nan, 1, 1],  # 2\n",
    "                    [1, 1, 1, np.nan],  # 3\n",
    "                    [np.nan, np.nan, 1, 1],  # 4\n",
    "                    [1, np.nan, np.nan, np.nan],  # 5\n",
    "                    [1, np.nan, np.nan, np.nan],  # 6\n",
    "                    [1, 1, np.nan, np.nan],  # 7\n",
    "                    ])"
   ]
  },
  {
   "cell_type": "code",
   "execution_count": 17,
   "metadata": {},
   "outputs": [],
   "source": [
    "def simple_convert_into_pi_from_theta(theta):\n",
    "    [m, n] = theta.shape  \n",
    "    pi = np.zeros((m, n))\n",
    "    for i in range(0, m):\n",
    "        pi[i, :] = theta[i, :] / np.nansum(theta[i, :])  \n",
    "    pi = np.nan_to_num(pi) \n",
    "    return pi"
   ]
  },
  {
   "cell_type": "code",
   "execution_count": 18,
   "metadata": {},
   "outputs": [],
   "source": [
    "pi_0 = simple_convert_into_pi_from_theta(theta_0)"
   ]
  },
  {
   "cell_type": "code",
   "execution_count": 19,
   "metadata": {},
   "outputs": [
    {
     "data": {
      "text/plain": [
       "array([[0.        , 0.5       , 0.5       , 0.        ],\n",
       "       [0.        , 0.5       , 0.        , 0.5       ],\n",
       "       [0.        , 0.        , 0.5       , 0.5       ],\n",
       "       [0.33333333, 0.33333333, 0.33333333, 0.        ],\n",
       "       [0.        , 0.        , 0.5       , 0.5       ],\n",
       "       [1.        , 0.        , 0.        , 0.        ],\n",
       "       [1.        , 0.        , 0.        , 0.        ],\n",
       "       [0.5       , 0.5       , 0.        , 0.        ]])"
      ]
     },
     "execution_count": 19,
     "metadata": {},
     "output_type": "execute_result"
    }
   ],
   "source": [
    "pi_0"
   ]
  },
  {
   "cell_type": "code",
   "execution_count": 20,
   "metadata": {},
   "outputs": [],
   "source": [
    "[a, b] = theta_0.shape  \n",
    "Q = np.random.rand(a, b) * theta_0 * 0.1"
   ]
  },
  {
   "cell_type": "code",
   "execution_count": 21,
   "metadata": {},
   "outputs": [],
   "source": [
    "def get_action(s, Q, epsilon, pi_0):\n",
    "    direction = [\"up\", \"right\", \"down\", \"left\"]\n",
    "\n",
    "    if np.random.rand() < epsilon:\n",
    "        next_direction = np.random.choice(direction, p=pi_0[s, :])\n",
    "    else:\n",
    "        next_direction = direction[np.nanargmax(Q[s, :])]\n",
    "\n",
    "    if next_direction == \"up\":\n",
    "        action = 0\n",
    "    elif next_direction == \"right\":\n",
    "        action = 1\n",
    "    elif next_direction == \"down\":\n",
    "        action = 2\n",
    "    elif next_direction == \"left\":\n",
    "        action = 3\n",
    "\n",
    "    return action"
   ]
  },
  {
   "cell_type": "code",
   "execution_count": 22,
   "metadata": {},
   "outputs": [],
   "source": [
    "def get_s_next(s, a, Q, epsilon, pi_0):\n",
    "    direction = [\"up\", \"right\", \"down\", \"left\"]\n",
    "    next_direction = direction[a]  \n",
    "\n",
    "    if next_direction == \"up\":\n",
    "        s_next = s - 3  \n",
    "    elif next_direction == \"right\":\n",
    "        s_next = s + 1  \n",
    "    elif next_direction == \"down\":\n",
    "        s_next = s + 3  \n",
    "    elif next_direction == \"left\":\n",
    "        s_next = s - 1 \n",
    "\n",
    "    return s_next"
   ]
  },
  {
   "cell_type": "code",
   "execution_count": 23,
   "metadata": {},
   "outputs": [],
   "source": [
    "def Q_learning(s, a, r, s_next, Q, eta, gamma):\n",
    "\n",
    "    if s_next == 8:  \n",
    "        Q[s, a] = Q[s, a] + eta * (r - Q[s, a])\n",
    "\n",
    "    else:\n",
    "        Q[s, a] = Q[s, a] + eta * (r + gamma * np.nanmax(Q[s_next,: ]) - Q[s, a])\n",
    "\n",
    "    return Q"
   ]
  },
  {
   "cell_type": "code",
   "execution_count": 24,
   "metadata": {},
   "outputs": [],
   "source": [
    "def goal_maze_ret_s_a_Q(Q, epsilon, eta, gamma, pi):\n",
    "    s = 0  \n",
    "    a = a_next = get_action(s, Q, epsilon, pi)  \n",
    "    s_a_history = [[0, np.nan]]  \n",
    "\n",
    "    while (1):  \n",
    "        a = a_next  \n",
    "\n",
    "        s_a_history[-1][1] = a\n",
    "\n",
    "        s_next = get_s_next(s, a, Q, epsilon, pi)\n",
    "\n",
    "        s_a_history.append([s_next, np.nan])\n",
    " \n",
    "        if s_next == 8:\n",
    "            r = 1  \n",
    "            a_next = np.nan\n",
    "        else:\n",
    "            r = 0\n",
    "            a_next = get_action(s_next, Q, epsilon, pi)\n",
    "\n",
    "        Q = Q_learning(s, a, r, s_next, Q, eta, gamma)\n",
    "\n",
    "        if s_next == 8: \n",
    "            break\n",
    "        else:\n",
    "            s = s_next\n",
    "\n",
    "    return [s_a_history, Q]"
   ]
  },
  {
   "cell_type": "code",
   "execution_count": 25,
   "metadata": {},
   "outputs": [
    {
     "name": "stdout",
     "output_type": "stream",
     "text": [
      "エピソード:1\n",
      "0.07921218036723131\n",
      "迷路を解くのにかかったステップ数は86です\n",
      "エピソード:2\n",
      "0.14944006639153223\n",
      "迷路を解くのにかかったステップ数は174です\n",
      "エピソード:3\n",
      "0.10031561046049027\n",
      "迷路を解くのにかかったステップ数は56です\n",
      "エピソード:4\n",
      "0.09531257431653656\n",
      "迷路を解くのにかかったステップ数は8です\n",
      "エピソード:5\n",
      "0.09358934115718424\n",
      "迷路を解くのにかかったステップ数は6です\n",
      "エピソード:6\n",
      "0.0924784437647828\n",
      "迷路を解くのにかかったステップ数は4です\n",
      "エピソード:7\n",
      "0.09149118831821157\n",
      "迷路を解くのにかかったステップ数は4です\n",
      "エピソード:8\n",
      "0.09046530185908279\n",
      "迷路を解くのにかかったステップ数は4です\n",
      "エピソード:9\n",
      "0.08939212709847277\n",
      "迷路を解くのにかかったステップ数は4です\n",
      "エピソード:10\n",
      "0.08826348870119051\n",
      "迷路を解くのにかかったステップ数は4です\n",
      "エピソード:11\n",
      "0.08707227319121506\n",
      "迷路を解くのにかかったステップ数は4です\n",
      "エピソード:12\n",
      "0.08581278646999052\n",
      "迷路を解くのにかかったステップ数は4です\n",
      "エピソード:13\n",
      "0.0844809420460245\n",
      "迷路を解くのにかかったステップ数は4です\n",
      "エピソード:14\n",
      "0.08307432281026625\n",
      "迷路を解くのにかかったステップ数は4です\n",
      "エピソード:15\n",
      "0.08159215067901543\n",
      "迷路を解くのにかかったステップ数は4です\n",
      "エピソード:16\n",
      "0.08003519138980816\n",
      "迷路を解くのにかかったステップ数は4です\n",
      "エピソード:17\n",
      "0.07840561594163449\n",
      "迷路を解くのにかかったステップ数は4です\n",
      "エピソード:18\n",
      "0.07670683541960945\n",
      "迷路を解くのにかかったステップ数は4です\n",
      "エピソード:19\n",
      "0.0749433220664291\n",
      "迷路を解くのにかかったステップ数は4です\n",
      "エピソード:20\n",
      "0.07312042631479584\n",
      "迷路を解くのにかかったステップ数は4です\n"
     ]
    }
   ],
   "source": [
    "eta = 0.1  \n",
    "gamma = 0.9 \n",
    "epsilon = 0.5 \n",
    "v = np.nanmax(Q, axis=1)  \n",
    "is_continue = True\n",
    "episode = 1\n",
    "\n",
    "V = []  \n",
    "V.append(np.nanmax(Q, axis=1)) \n",
    "\n",
    "while is_continue: \n",
    "    print(\"エピソード:\" + str(episode))\n",
    "\n",
    "    epsilon = epsilon / 2\n",
    "\n",
    "    [s_a_history, Q] = goal_maze_ret_s_a_Q(Q, epsilon, eta, gamma, pi_0)\n",
    "\n",
    "\n",
    "    new_v = np.nanmax(Q, axis=1)  \n",
    "    print(np.sum(np.abs(new_v - v)))  \n",
    "    v = new_v\n",
    "    V.append(v) \n",
    "\n",
    "    print(\"迷路を解くのにかかったステップ数は\" + str(len(s_a_history) - 1) + \"です\")\n",
    "\n",
    "    episode = episode + 1\n",
    "    if episode > 20:\n",
    "        break"
   ]
  },
  {
   "cell_type": "code",
   "execution_count": null,
   "metadata": {},
   "outputs": [],
   "source": []
  }
 ],
 "metadata": {
  "kernelspec": {
   "display_name": "Python 3",
   "language": "python",
   "name": "python3"
  },
  "language_info": {
   "codemirror_mode": {
    "name": "ipython",
    "version": 3
   },
   "file_extension": ".py",
   "mimetype": "text/x-python",
   "name": "python",
   "nbconvert_exporter": "python",
   "pygments_lexer": "ipython3",
   "version": "3.8.5"
  }
 },
 "nbformat": 4,
 "nbformat_minor": 4
}
