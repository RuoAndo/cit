{
 "cells": [
  {
   "cell_type": "code",
   "execution_count": 54,
   "metadata": {},
   "outputs": [
    {
     "name": "stdout",
     "output_type": "stream",
     "text": [
      "[[2 4 1 2 4 1]\n",
      " [3 2 6 4 5 1]\n",
      " [4 2 1 4 2 1]\n",
      " [5 4 6 2 3 1]\n",
      " [6 1 6 1 6 1]]\n"
     ]
    }
   ],
   "source": [
    "import numpy as np\n",
    "\n",
    "R = np.arange(6*5)\n",
    "\n",
    "j = np.array(range(1,7))\n",
    "a = np.array(range(2,7))\n",
    "#print(j)\n",
    "#print(a)\n",
    "    \n",
    "counter = 0\n",
    "for m in a:\n",
    "    for n in j:\n",
    "        tmp = pow(m,n)%7\n",
    "        R[counter] = tmp\n",
    "        counter = counter + 1\n",
    "\n",
    "R2 = R.reshape(5,6)  \n",
    "print(R2)\n"
   ]
  },
  {
   "cell_type": "code",
   "execution_count": null,
   "metadata": {},
   "outputs": [],
   "source": []
  },
  {
   "cell_type": "code",
   "execution_count": null,
   "metadata": {},
   "outputs": [],
   "source": []
  }
 ],
 "metadata": {
  "kernelspec": {
   "display_name": "Python 3",
   "language": "python",
   "name": "python3"
  },
  "language_info": {
   "codemirror_mode": {
    "name": "ipython",
    "version": 3
   },
   "file_extension": ".py",
   "mimetype": "text/x-python",
   "name": "python",
   "nbconvert_exporter": "python",
   "pygments_lexer": "ipython3",
   "version": "3.8.5"
  }
 },
 "nbformat": 4,
 "nbformat_minor": 4
}
