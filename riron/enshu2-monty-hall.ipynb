{
 "cells": [
  {
   "cell_type": "code",
   "execution_count": 1,
   "metadata": {},
   "outputs": [
    {
     "name": "stdout",
     "output_type": "stream",
     "text": [
      "箱を交換した時の勝率\n"
     ]
    },
    {
     "data": {
      "image/png": "[encoded data removed]",
      "text/plain": [
       "<Figure size 432x288 with 1 Axes>"
      ]
     },
     "metadata": {
      "needs_background": "light"
     },
     "output_type": "display_data"
    }
   ],
   "source": [
    "import random\n",
    "\n",
    "# 始めに、箱の数を決める\n",
    "NUM_DOORS = 3\n",
    "\n",
    "def monty(change):\n",
    "    i = 0\n",
    "    doors =[]\n",
    "    \n",
    "    # 初期化\n",
    "    for i in range(100):\n",
    "        doors.append(0)\n",
    "    \n",
    "    # 当たり(1)の箱を決める\n",
    "    doors[random.randint(0, 100) % NUM_DOORS] = 1\n",
    "    \n",
    "    # 箱を選ぶ\n",
    "    myChoice = random.randint(0, 100) % NUM_DOORS\n",
    "    \n",
    "    # 外れ(0)の箱を開ける\n",
    "    for i in range(NUM_DOORS):\n",
    "        if doors[i] == 0 and i != myChoice:\n",
    "            doors[i] = -1\n",
    "            break\n",
    "            \n",
    "    # 箱を変更する時        \n",
    "    if change == 1:\n",
    "            for i in range(NUM_DOORS):\n",
    "                if doors[i] != -1 and i != myChoice:\n",
    "                    myChoice = i\n",
    "                    break\n",
    "            \n",
    "    # print(doors[myChoice])\n",
    "            \n",
    "    # 当たった場合    \n",
    "    if doors[myChoice] == 1:\n",
    "        result = 1\n",
    "        \n",
    "    # 外れた場合\n",
    "    if doors[myChoice] != 1:\n",
    "        result = 0\n",
    "    \n",
    "    return result\n",
    "\n",
    "counter_0 = 0\n",
    "counter_1 = 0\n",
    "\n",
    "import os\n",
    "import matplotlib.pyplot as plt\n",
    "import numpy as np\n",
    "\n",
    "N1 = 1\n",
    "\n",
    "for j in range(N1):\n",
    "\n",
    "    ratio = []\n",
    "    N = 200\n",
    "    x = np.arange(100)\n",
    "\n",
    "    counter_0 = 0\n",
    "    counter_1 = 0\n",
    "    \n",
    "    for i in range(100):\n",
    "        if(monty(0)==1):\n",
    "            counter_0 = counter_0 + 1\n",
    "        if(monty(1)==1):\n",
    "            counter_1 = counter_1 + 1\n",
    "\n",
    "        ratio.append(counter_1 / (counter_1+counter_0 + 1))\n",
    "    \n",
    "    print(\"箱を交換した時の勝率\")\n",
    "    plt.plot(x, ratio, label=\"monty-hall\")\n",
    "    \n",
    "    plt.legend()\n",
    "    plt.show()\n"
   ]
  },
  {
   "cell_type": "code",
   "execution_count": null,
   "metadata": {},
   "outputs": [],
   "source": []
  }
 ],
 "metadata": {
  "kernelspec": {
   "display_name": "Python 3",
   "language": "python",
   "name": "python3"
  },
  "language_info": {
   "codemirror_mode": {
    "name": "ipython",
    "version": 3
   },
   "file_extension": ".py",
   "mimetype": "text/x-python",
   "name": "python",
   "nbconvert_exporter": "python",
   "pygments_lexer": "ipython3",
   "version": "3.8.5"
  }
 },
 "nbformat": 4,
 "nbformat_minor": 4
}
