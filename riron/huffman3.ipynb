{
 "cells": [
  {
   "cell_type": "code",
   "execution_count": 1,
   "metadata": {},
   "outputs": [
    {
     "name": "stdout",
     "output_type": "stream",
     "text": [
      "A: 01\n",
      "B: 00\n",
      "C: 11\n",
      "D: 1000\n",
      "E: 1001\n",
      "F: 101\n"
     ]
    }
   ],
   "source": [
    "from collections import Counter\n",
    "\n",
    "def MIN_PRIORITY_QUEUE(S):\n",
    "    return sorted(S.items(), key=lambda x: x[1], reverse=True)\n",
    "\n",
    "def EXTRACT_MIN(Q):\n",
    "    return Q.pop()\n",
    "\n",
    "def INSERT(Q, z):\n",
    "    return Q.append(z)\n",
    "\n",
    "def HUFFMAN(S, a):\n",
    "    n = len(S)\n",
    "    Q = MIN_PRIORITY_QUEUE(S)\n",
    "    for i in range(n - 1):\n",
    "        left = EXTRACT_MIN(Q)\n",
    "        right = EXTRACT_MIN(Q)\n",
    "        freq = left[1] + right[1]\n",
    "        z = (left[0] + right[0], freq)\n",
    "        INSERT(Q, z)\n",
    "        a.append([left, \"0\", left[0] + right[0]])\n",
    "        a.append([right, \"1\", left[0] + right[0]])\n",
    "        Q = dict(zip([i[0] for i in Q], [i[1] for i in Q]))\n",
    "        Q = MIN_PRIORITY_QUEUE(Q)\n",
    "    a.append([EXTRACT_MIN(Q), \"\", \"top\"])\n",
    "    return a\n",
    "\n",
    "def PrintReslut(b):\n",
    "    for i in range(len(a)):\n",
    "        now = a[i][0][0]\n",
    "        num = a[i][1]\n",
    "        j = 0\n",
    "        while a[j][2] != 'top':\n",
    "            if a[i][2] == a[j][0][0]:\n",
    "                num = a[j][1] + num\n",
    "                i = j\n",
    "                flag = 0\n",
    "                for k in range(len(a)):\n",
    "                    if a[k][0][0] == 'top' or a[j][2] == a[k][0][0]:\n",
    "                        flag = 1\n",
    "                        break\n",
    "            else:\n",
    "                j += 1\n",
    "        if now in s:\n",
    "            b.append([now, num])\n",
    "    return b\n",
    "\n",
    "def DivideS(S):\n",
    "    S = list(S)\n",
    "    S = Counter(S)\n",
    "    S = dict(S)\n",
    "    return S\n",
    "\n",
    "str=\"ABBCACCEACBCCFABCDAFEABFFADBBC\"\n",
    "\n",
    "s = DivideS(str)\n",
    "a = HUFFMAN(s, [])\n",
    "for b in sorted(PrintReslut([])):\n",
    "    print(b[0] + \": \" + b[1])"
   ]
  },
  {
   "cell_type": "code",
   "execution_count": null,
   "metadata": {},
   "outputs": [],
   "source": []
  }
 ],
 "metadata": {
  "kernelspec": {
   "display_name": "Python 3",
   "language": "python",
   "name": "python3"
  },
  "language_info": {
   "codemirror_mode": {
    "name": "ipython",
    "version": 3
   },
   "file_extension": ".py",
   "mimetype": "text/x-python",
   "name": "python",
   "nbconvert_exporter": "python",
   "pygments_lexer": "ipython3",
   "version": "3.8.5"
  }
 },
 "nbformat": 4,
 "nbformat_minor": 4
}
