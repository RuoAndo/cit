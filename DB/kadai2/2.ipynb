{
 "cells": [
  {
   "cell_type": "code",
   "execution_count": 12,
   "metadata": {},
   "outputs": [
    {
     "name": "stdout",
     "output_type": "stream",
     "text": [
      "{'notifications': None, 'profile_use_background_image': True, 'statuses_count': 351, 'profile_background_color': 'C0DEED', 'followers_count': 48, 'profile_image_url': 'http://a1.twimg.com/profile_images/455128973/gCsVUnofNqqyd6tdOGevROvko1_500_normal.jpg', 'listed_count': 0, 'profile_background_image_url': 'http://a3.twimg.com/a/1300479984/images/themes/theme1/bg.png', 'description': 'watcha doin in my waters?', 'screen_name': 'OldGREG85', 'default_profile': True, 'verified': False, 'time_zone': 'Hawaii', 'profile_text_color': '333333', 'is_translator': False, 'profile_sidebar_fill_color': 'DDEEF6', 'location': 'Texas', 'id_str': '80177619', 'default_profile_image': False, 'profile_background_tile': False, 'lang': 'en', 'friends_count': 81, 'protected': False, 'favourites_count': 0, 'created_at': 'Tue Oct 06 01:13:17 +0000 2009', 'profile_link_color': '0084B4', 'name': 'GG', 'show_all_inline_media': False, 'follow_request_sent': None, 'geo_enabled': False, 'profile_sidebar_border_color': 'C0DEED', 'url': None, 'id': 80177619, 'contributors_enabled': False, 'following': None, 'utc_offset': -36000}\n"
     ]
    }
   ],
   "source": [
    "import json\n",
    "import sys\n",
    "\n",
    "args = sys.argv\n",
    "with open('twitter.json') as f:\n",
    "#with open(args[1]) as f:\n",
    "    di = json.load(f)\n",
    "\n",
    "#print(str(di['text']))\n",
    "#dict1=dict\n",
    "\n",
    "key = []\n",
    "value = []\n",
    "\n",
    "# dictionaryを使って、key-valueを保存する。\n",
    "for k, v in di['user'].items():  \n",
    "    key.append(k)\n",
    "    value.append(v)\n",
    "\n",
    "dict1=dict(zip(key,value))\n",
    "print(dict1)\n"
   ]
  },
  {
   "cell_type": "code",
   "execution_count": null,
   "metadata": {},
   "outputs": [],
   "source": []
  }
 ],
 "metadata": {
  "kernelspec": {
   "display_name": "Python 3",
   "language": "python",
   "name": "python3"
  },
  "language_info": {
   "codemirror_mode": {
    "name": "ipython",
    "version": 3
   },
   "file_extension": ".py",
   "mimetype": "text/x-python",
   "name": "python",
   "nbconvert_exporter": "python",
   "pygments_lexer": "ipython3",
   "version": "3.8.5"
  }
 },
 "nbformat": 4,
 "nbformat_minor": 4
}
