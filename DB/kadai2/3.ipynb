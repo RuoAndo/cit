{
 "cells": [
  {
   "cell_type": "code",
   "execution_count": 84,
   "metadata": {
    "scrolled": true
   },
   "outputs": [
    {
     "name": "stdout",
     "output_type": "stream",
     "text": [
      "average: 33.375\n"
     ]
    }
   ],
   "source": [
    "import json\n",
    "import sys\n",
    "\n",
    "args = sys.argv\n",
    "with open('twitter2.json') as f:\n",
    "#with open(args[1]) as f:\n",
    "    di = json.load(f)\n",
    "    \n",
    "key = []    \n",
    "value = []\n",
    "    \n",
    "age_sum = 0\n",
    "counter = 0\n",
    "    \n",
    "for i in di:\n",
    "    #print(i)\n",
    "\n",
    "    for k, v in i.items():\n",
    "        if k == 'age':\n",
    "            #print(v)\n",
    "            age_sum = age_sum + int(v)\n",
    "            counter = counter + 1\n",
    "            \n",
    "print(\"average: \" + str(age_sum/counter))\n",
    "    \n",
    "#for k, v in dict1.items():\n",
    "#    print(k)\n",
    "\n"
   ]
  },
  {
   "cell_type": "code",
   "execution_count": null,
   "metadata": {},
   "outputs": [],
   "source": []
  }
 ],
 "metadata": {
  "kernelspec": {
   "display_name": "Python 3",
   "language": "python",
   "name": "python3"
  },
  "language_info": {
   "codemirror_mode": {
    "name": "ipython",
    "version": 3
   },
   "file_extension": ".py",
   "mimetype": "text/x-python",
   "name": "python",
   "nbconvert_exporter": "python",
   "pygments_lexer": "ipython3",
   "version": "3.8.5"
  }
 },
 "nbformat": 4,
 "nbformat_minor": 4
}
