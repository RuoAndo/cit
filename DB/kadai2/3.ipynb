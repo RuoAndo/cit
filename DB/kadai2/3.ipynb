{
 "cells": [
  {
   "cell_type": "code",
   "execution_count": 87,
   "metadata": {
    "scrolled": true
   },
   "outputs": [
    {
     "name": "stdout",
     "output_type": "stream",
     "text": [
      "{'_id': '634b1522b68d877bb8025b50', 'index': 0, 'guid': 'a7b78112-39bc-443e-bd9b-d775a2dd9f63', 'isActive': False, 'balance': '$2,927.51', 'picture': 'http://placehold.it/32x32', 'score': 83, 'age': 37, 'eyeColor': 'brown', 'name': 'Vang Barnett', 'gender': 'male', 'company': 'EXOVENT', 'email': 'vangbarnett@exovent.com', 'phone': '+1 (926) 455-3829', 'address': '600 Dearborn Court, Sanders, Arizona, 6159', 'about': 'Eiusmod esse excepteur Lorem in mollit adipisicing qui et labore ea id consectetur sint occaecat. Amet duis reprehenderit ea in nisi laborum sit incididunt cillum sunt nisi anim do occaecat. Ea excepteur enim qui veniam Lorem est laborum minim laboris Lorem ad in officia. Labore sit nostrud velit officia nostrud. Minim quis aliqua ullamco dolor sint eiusmod laboris veniam reprehenderit deserunt ullamco laborum ipsum aliqua. Nulla ullamco id laborum nisi pariatur velit veniam.\\r\\n', 'registered': '2022-08-15T03:25:42 -09:00', 'latitude': 61.495453, 'longitude': 13.245505, 'tags': ['magna', 'cupidatat', 'cupidatat', 'consectetur', 'ea', 'amet', 'commodo'], 'friends': [{'id': 0, 'name': 'Reva Paul'}, {'id': 1, 'name': 'Cruz Barrera'}, {'id': 2, 'name': 'Calhoun Montgomery'}], 'greeting': 'Hello, Vang Barnett! You have 1 unread messages.', 'favoriteFruit': 'strawberry'}\n"
     ]
    },
    {
     "ename": "NameError",
     "evalue": "name 'score_sum' is not defined",
     "output_type": "error",
     "traceback": [
      "\u001b[1;31m---------------------------------------------------------------------------\u001b[0m",
      "\u001b[1;31mNameError\u001b[0m                                 Traceback (most recent call last)",
      "\u001b[1;32m<ipython-input-87-95d7a745a7d2>\u001b[0m in \u001b[0;36m<module>\u001b[1;34m\u001b[0m\n\u001b[0;32m     19\u001b[0m         \u001b[1;32mif\u001b[0m \u001b[0mk\u001b[0m \u001b[1;33m==\u001b[0m \u001b[1;34m'score'\u001b[0m\u001b[1;33m:\u001b[0m\u001b[1;33m\u001b[0m\u001b[1;33m\u001b[0m\u001b[0m\n\u001b[0;32m     20\u001b[0m             \u001b[1;31m#print(v)\u001b[0m\u001b[1;33m\u001b[0m\u001b[1;33m\u001b[0m\u001b[1;33m\u001b[0m\u001b[0m\n\u001b[1;32m---> 21\u001b[1;33m             \u001b[0mscore_sum\u001b[0m \u001b[1;33m=\u001b[0m \u001b[0mscore_sum\u001b[0m \u001b[1;33m+\u001b[0m \u001b[0mint\u001b[0m\u001b[1;33m(\u001b[0m\u001b[0mv\u001b[0m\u001b[1;33m)\u001b[0m\u001b[1;33m\u001b[0m\u001b[1;33m\u001b[0m\u001b[0m\n\u001b[0m\u001b[0;32m     22\u001b[0m             \u001b[0mcounter\u001b[0m \u001b[1;33m=\u001b[0m \u001b[0mcounter\u001b[0m \u001b[1;33m+\u001b[0m \u001b[1;36m1\u001b[0m\u001b[1;33m\u001b[0m\u001b[1;33m\u001b[0m\u001b[0m\n\u001b[0;32m     23\u001b[0m \u001b[1;33m\u001b[0m\u001b[0m\n",
      "\u001b[1;31mNameError\u001b[0m: name 'score_sum' is not defined"
     ]
    }
   ],
   "source": [
    "import json\n",
    "import sys\n",
    "\n",
    "args = sys.argv\n",
    "with open('twitter3.json') as f:\n",
    "#with open(args[1]) as f:\n",
    "    di = json.load(f)\n",
    "    \n",
    "key = []    \n",
    "value = []\n",
    "    \n",
    "age_sum = 0\n",
    "counter = 0\n",
    "    \n",
    "for i in di:\n",
    "    print(i)\n",
    "\n",
    "    for k, v in i.items():\n",
    "        if k == 'score':\n",
    "            #print(v)\n",
    "            score_sum = score_sum + int(v)\n",
    "            counter = counter + 1\n",
    "    \n",
    "print(\"----\")\n",
    "print(\"average: \" + str(age_sum/counter))\n",
    "    \n",
    "\n",
    "\n"
   ]
  },
  {
   "cell_type": "code",
   "execution_count": null,
   "metadata": {},
   "outputs": [],
   "source": []
  }
 ],
 "metadata": {
  "kernelspec": {
   "display_name": "Python 3",
   "language": "python",
   "name": "python3"
  },
  "language_info": {
   "codemirror_mode": {
    "name": "ipython",
    "version": 3
   },
   "file_extension": ".py",
   "mimetype": "text/x-python",
   "name": "python",
   "nbconvert_exporter": "python",
   "pygments_lexer": "ipython3",
   "version": "3.8.5"
  }
 },
 "nbformat": 4,
 "nbformat_minor": 4
}
