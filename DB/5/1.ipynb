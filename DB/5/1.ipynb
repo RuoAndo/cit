{
 "cells": [
  {
   "cell_type": "code",
   "execution_count": 5,
   "metadata": {},
   "outputs": [
    {
     "name": "stdout",
     "output_type": "stream",
     "text": [
      "RT @PostGradProblem: In preparation for the NFL lockout, I will be spending twice as much time analyzing my fantasy baseball team during ...\n",
      "(key) notifications -> (value)None\n",
      "(key) profile_use_background_image -> (value)True\n",
      "(key) statuses_count -> (value)351\n",
      "(key) profile_background_color -> (value)C0DEED\n",
      "(key) followers_count -> (value)48\n",
      "(key) profile_image_url -> (value)http://a1.twimg.com/profile_images/455128973/gCsVUnofNqqyd6tdOGevROvko1_500_normal.jpg\n",
      "(key) listed_count -> (value)0\n",
      "(key) profile_background_image_url -> (value)http://a3.twimg.com/a/1300479984/images/themes/theme1/bg.png\n",
      "(key) description -> (value)watcha doin in my waters?\n",
      "(key) screen_name -> (value)OldGREG85\n",
      "(key) default_profile -> (value)True\n",
      "(key) verified -> (value)False\n",
      "(key) time_zone -> (value)Hawaii\n",
      "(key) profile_text_color -> (value)333333\n",
      "(key) is_translator -> (value)False\n",
      "(key) profile_sidebar_fill_color -> (value)DDEEF6\n",
      "(key) location -> (value)Texas\n",
      "(key) id_str -> (value)80177619\n",
      "(key) default_profile_image -> (value)False\n",
      "(key) profile_background_tile -> (value)False\n",
      "(key) lang -> (value)en\n",
      "(key) friends_count -> (value)81\n",
      "(key) protected -> (value)False\n",
      "(key) favourites_count -> (value)0\n",
      "(key) created_at -> (value)Tue Oct 06 01:13:17 +0000 2009\n",
      "(key) profile_link_color -> (value)0084B4\n",
      "(key) name -> (value)GG\n",
      "(key) show_all_inline_media -> (value)False\n",
      "(key) follow_request_sent -> (value)None\n",
      "(key) geo_enabled -> (value)False\n",
      "(key) profile_sidebar_border_color -> (value)C0DEED\n",
      "(key) url -> (value)None\n",
      "(key) id -> (value)80177619\n",
      "(key) contributors_enabled -> (value)False\n",
      "(key) following -> (value)None\n",
      "(key) utc_offset -> (value)-36000\n"
     ]
    }
   ],
   "source": [
    "import json\n",
    "import sys\n",
    "\n",
    "args = sys.argv\n",
    "with open('twitter.json') as f:\n",
    "#with open(args[1]) as f:\n",
    "    di = json.load(f)\n",
    "\n",
    "print(str(di['text']))\n",
    "\n",
    "# key-valueの表示\n",
    "for k, v in di['user'].items():  \n",
    "   print(f'(key) {k} -> (value){v}')\n"
   ]
  },
  {
   "cell_type": "code",
   "execution_count": null,
   "metadata": {},
   "outputs": [],
   "source": []
  }
 ],
 "metadata": {
  "kernelspec": {
   "display_name": "Python 3",
   "language": "python",
   "name": "python3"
  },
  "language_info": {
   "codemirror_mode": {
    "name": "ipython",
    "version": 3
   },
   "file_extension": ".py",
   "mimetype": "text/x-python",
   "name": "python",
   "nbconvert_exporter": "python",
   "pygments_lexer": "ipython3",
   "version": "3.8.5"
  }
 },
 "nbformat": 4,
 "nbformat_minor": 4
}
